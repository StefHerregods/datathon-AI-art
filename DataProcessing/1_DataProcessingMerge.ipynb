{
 "cells": [
  {
   "cell_type": "code",
   "execution_count": 1,
   "id": "f0dfc3f6-df88-4ba0-b168-11d6cdc16b9f",
   "metadata": {},
   "outputs": [],
   "source": [
    "import pandas as pd\n",
    "from functools import reduce"
   ]
  },
  {
   "cell_type": "code",
   "execution_count": 4,
   "id": "b483fe47-0934-4cf7-a707-e8ca224b214b",
   "metadata": {},
   "outputs": [],
   "source": [
    "Movement = pd.read_csv(\"ArtistMovements.csv\")\n",
    "Artwork = pd.read_csv(\"Artwork.csv\")\n",
    "Special = pd.read_csv(\"ArtistSpecializations.csv\")\n",
    "Generated = pd.read_csv(\"Generated.csv\")\n",
    "Artist = pd.read_csv(\"Artist.csv\")\n",
    "Education = pd.read_csv(\"ArtistEducation.csv\")\n",
    "Places = pd.read_csv(\"Places.csv\")\n",
    "OutputReal = pd.read_csv(\"output_real.csv\")\n",
    "OutputFake = pd.read_csv(\"output_fake.csv\")\n",
    "FeaturesFake = pd.read_csv(\"image_features_fake.csv\")\n",
    "FeaturesReal = pd.read_csv(\"image_features_real.csv\")\n",
    "Rec = pd.read_csv(\"n_relations_recommendations.csv\")"
   ]
  },
  {
   "cell_type": "markdown",
   "id": "b2cb5aaa-2ffe-49af-a9e2-c1baaf575524",
   "metadata": {},
   "source": [
    "# Artwork"
   ]
  },
  {
   "cell_type": "code",
   "execution_count": 128,
   "id": "8abc54f9-35ad-4172-9298-8f288e25e026",
   "metadata": {},
   "outputs": [
    {
     "data": {
      "text/plain": [
       "(10517, 10)"
      ]
     },
     "execution_count": 128,
     "metadata": {},
     "output_type": "execute_result"
    }
   ],
   "source": [
    "Artwork.shape"
   ]
  },
  {
   "cell_type": "code",
   "execution_count": 120,
   "id": "58e4dcfa-8743-4d56-9c67-b21dd6c2b8ca",
   "metadata": {},
   "outputs": [
    {
     "data": {
      "text/html": [
       "<div>\n",
       "<style scoped>\n",
       "    .dataframe tbody tr th:only-of-type {\n",
       "        vertical-align: middle;\n",
       "    }\n",
       "\n",
       "    .dataframe tbody tr th {\n",
       "        vertical-align: top;\n",
       "    }\n",
       "\n",
       "    .dataframe thead th {\n",
       "        text-align: right;\n",
       "    }\n",
       "</style>\n",
       "<table border=\"1\" class=\"dataframe\">\n",
       "  <thead>\n",
       "    <tr style=\"text-align: right;\">\n",
       "      <th></th>\n",
       "      <th>id</th>\n",
       "      <th>name</th>\n",
       "      <th>url</th>\n",
       "      <th>image_url</th>\n",
       "      <th>artist</th>\n",
       "      <th>rating</th>\n",
       "      <th>summary</th>\n",
       "      <th>year</th>\n",
       "      <th>medium</th>\n",
       "      <th>location</th>\n",
       "    </tr>\n",
       "  </thead>\n",
       "  <tbody>\n",
       "    <tr>\n",
       "      <th>0</th>\n",
       "      <td>0</td>\n",
       "      <td>Cafe Terrace on the Place du Forum</td>\n",
       "      <td>http://wikigallery.org/wiki/painting_133032/Vi...</td>\n",
       "      <td>https://kuleuven-datathon-2023.s3.eu-central-1...</td>\n",
       "      <td>0</td>\n",
       "      <td>8.0</td>\n",
       "      <td>Café Terrace at Night is an 1888 oil painting ...</td>\n",
       "      <td>1888.0</td>\n",
       "      <td>0.0</td>\n",
       "      <td>Kröller-Müller Museum</td>\n",
       "    </tr>\n",
       "    <tr>\n",
       "      <th>1</th>\n",
       "      <td>1</td>\n",
       "      <td>Starry Night</td>\n",
       "      <td>http://wikigallery.org/wiki/painting_9698/Vinc...</td>\n",
       "      <td>https://kuleuven-datathon-2023.s3.eu-central-1...</td>\n",
       "      <td>0</td>\n",
       "      <td>9.0</td>\n",
       "      <td>NaN</td>\n",
       "      <td>NaN</td>\n",
       "      <td>NaN</td>\n",
       "      <td>NaN</td>\n",
       "    </tr>\n",
       "    <tr>\n",
       "      <th>2</th>\n",
       "      <td>2</td>\n",
       "      <td>A Digger</td>\n",
       "      <td>http://wikigallery.org/wiki/painting_132953/Vi...</td>\n",
       "      <td>https://kuleuven-datathon-2023.s3.eu-central-1...</td>\n",
       "      <td>0</td>\n",
       "      <td>7.0</td>\n",
       "      <td>NaN</td>\n",
       "      <td>NaN</td>\n",
       "      <td>NaN</td>\n",
       "      <td>NaN</td>\n",
       "    </tr>\n",
       "  </tbody>\n",
       "</table>\n",
       "</div>"
      ],
      "text/plain": [
       "   id                                name  \\\n",
       "0   0  Cafe Terrace on the Place du Forum   \n",
       "1   1                        Starry Night   \n",
       "2   2                            A Digger   \n",
       "\n",
       "                                                 url  \\\n",
       "0  http://wikigallery.org/wiki/painting_133032/Vi...   \n",
       "1  http://wikigallery.org/wiki/painting_9698/Vinc...   \n",
       "2  http://wikigallery.org/wiki/painting_132953/Vi...   \n",
       "\n",
       "                                           image_url  artist  rating  \\\n",
       "0  https://kuleuven-datathon-2023.s3.eu-central-1...       0     8.0   \n",
       "1  https://kuleuven-datathon-2023.s3.eu-central-1...       0     9.0   \n",
       "2  https://kuleuven-datathon-2023.s3.eu-central-1...       0     7.0   \n",
       "\n",
       "                                             summary    year  medium  \\\n",
       "0  Café Terrace at Night is an 1888 oil painting ...  1888.0     0.0   \n",
       "1                                                NaN     NaN     NaN   \n",
       "2                                                NaN     NaN     NaN   \n",
       "\n",
       "                location  \n",
       "0  Kröller-Müller Museum  \n",
       "1                    NaN  \n",
       "2                    NaN  "
      ]
     },
     "execution_count": 120,
     "metadata": {},
     "output_type": "execute_result"
    }
   ],
   "source": [
    "pd.set_option('max_colwidth', 50)\n",
    "Artwork.head(3)"
   ]
  },
  {
   "cell_type": "code",
   "execution_count": 121,
   "id": "1ac3a163-ff1f-45cc-b0ff-598cb13acc8c",
   "metadata": {},
   "outputs": [
    {
     "data": {
      "text/plain": [
       "0.9751830369877341"
      ]
     },
     "execution_count": 121,
     "metadata": {},
     "output_type": "execute_result"
    }
   ],
   "source": [
    "Artwork[\"year\"].isna().sum()/len(Artwork) #should be removed due to large number of NAs "
   ]
  },
  {
   "cell_type": "code",
   "execution_count": 111,
   "id": "347f0def-9526-4746-9dfc-b532c4f2d486",
   "metadata": {},
   "outputs": [
    {
     "data": {
      "text/plain": [
       "0.9499857373775792"
      ]
     },
     "execution_count": 111,
     "metadata": {},
     "output_type": "execute_result"
    }
   ],
   "source": [
    "Artwork[\"medium\"].isna().sum()/len(Artwork) #should be removed due to large number of NAs "
   ]
  },
  {
   "cell_type": "code",
   "execution_count": 112,
   "id": "8b9edd5d-b4b4-4c91-9de6-5ee383e6c014",
   "metadata": {},
   "outputs": [
    {
     "data": {
      "text/plain": [
       "0.9395264809356281"
      ]
     },
     "execution_count": 112,
     "metadata": {},
     "output_type": "execute_result"
    }
   ],
   "source": [
    "Artwork[\"location\"].isna().sum()/len(Artwork) #should be removed due to large number of NAs "
   ]
  },
  {
   "cell_type": "code",
   "execution_count": 5,
   "id": "ab987dee-e6be-40cf-b654-d45791240b0b",
   "metadata": {},
   "outputs": [
    {
     "data": {
      "text/html": [
       "<div>\n",
       "<style scoped>\n",
       "    .dataframe tbody tr th:only-of-type {\n",
       "        vertical-align: middle;\n",
       "    }\n",
       "\n",
       "    .dataframe tbody tr th {\n",
       "        vertical-align: top;\n",
       "    }\n",
       "\n",
       "    .dataframe thead th {\n",
       "        text-align: right;\n",
       "    }\n",
       "</style>\n",
       "<table border=\"1\" class=\"dataframe\">\n",
       "  <thead>\n",
       "    <tr style=\"text-align: right;\">\n",
       "      <th></th>\n",
       "      <th>id</th>\n",
       "      <th>name</th>\n",
       "      <th>image_url</th>\n",
       "      <th>artist_id</th>\n",
       "      <th>rating</th>\n",
       "    </tr>\n",
       "  </thead>\n",
       "  <tbody>\n",
       "    <tr>\n",
       "      <th>9594</th>\n",
       "      <td>9595</td>\n",
       "      <td>Glasgow docks 2</td>\n",
       "      <td>https://kuleuven-datathon-2023.s3.eu-central-1...</td>\n",
       "      <td>552</td>\n",
       "      <td>NaN</td>\n",
       "    </tr>\n",
       "    <tr>\n",
       "      <th>5874</th>\n",
       "      <td>5874</td>\n",
       "      <td>Salome and Herodias with the head of Saint Joh...</td>\n",
       "      <td>https://kuleuven-datathon-2023.s3.eu-central-1...</td>\n",
       "      <td>326</td>\n",
       "      <td>NaN</td>\n",
       "    </tr>\n",
       "    <tr>\n",
       "      <th>1878</th>\n",
       "      <td>1878</td>\n",
       "      <td>The Plague of Ashdod - detail</td>\n",
       "      <td>https://kuleuven-datathon-2023.s3.eu-central-1...</td>\n",
       "      <td>75</td>\n",
       "      <td>NaN</td>\n",
       "    </tr>\n",
       "    <tr>\n",
       "      <th>6521</th>\n",
       "      <td>6522</td>\n",
       "      <td>Evening Tales</td>\n",
       "      <td>https://kuleuven-datathon-2023.s3.eu-central-1...</td>\n",
       "      <td>367</td>\n",
       "      <td>NaN</td>\n",
       "    </tr>\n",
       "    <tr>\n",
       "      <th>1812</th>\n",
       "      <td>1812</td>\n",
       "      <td>A Rakes Progress III The Rake at the Rose Tavern</td>\n",
       "      <td>https://kuleuven-datathon-2023.s3.eu-central-1...</td>\n",
       "      <td>72</td>\n",
       "      <td>10.0</td>\n",
       "    </tr>\n",
       "  </tbody>\n",
       "</table>\n",
       "</div>"
      ],
      "text/plain": [
       "        id                                               name  \\\n",
       "9594  9595                                    Glasgow docks 2   \n",
       "5874  5874  Salome and Herodias with the head of Saint Joh...   \n",
       "1878  1878                      The Plague of Ashdod - detail   \n",
       "6521  6522                                      Evening Tales   \n",
       "1812  1812   A Rakes Progress III The Rake at the Rose Tavern   \n",
       "\n",
       "                                              image_url  artist_id  rating  \n",
       "9594  https://kuleuven-datathon-2023.s3.eu-central-1...        552     NaN  \n",
       "5874  https://kuleuven-datathon-2023.s3.eu-central-1...        326     NaN  \n",
       "1878  https://kuleuven-datathon-2023.s3.eu-central-1...         75     NaN  \n",
       "6521  https://kuleuven-datathon-2023.s3.eu-central-1...        367     NaN  \n",
       "1812  https://kuleuven-datathon-2023.s3.eu-central-1...         72    10.0  "
      ]
     },
     "execution_count": 5,
     "metadata": {},
     "output_type": "execute_result"
    }
   ],
   "source": [
    "Artwork2 = Artwork.iloc[:, [0,1,3,4,5]]\n",
    "Artwork2 = Artwork2.rename(columns = {'artist':'artist_id'})\n",
    "Artwork2.sample(5)"
   ]
  },
  {
   "cell_type": "code",
   "execution_count": 282,
   "id": "d60cbb30-fa56-42e3-906e-0c4222dfaa56",
   "metadata": {},
   "outputs": [
    {
     "data": {
      "text/html": [
       "<div>\n",
       "<style scoped>\n",
       "    .dataframe tbody tr th:only-of-type {\n",
       "        vertical-align: middle;\n",
       "    }\n",
       "\n",
       "    .dataframe tbody tr th {\n",
       "        vertical-align: top;\n",
       "    }\n",
       "\n",
       "    .dataframe thead th {\n",
       "        text-align: right;\n",
       "    }\n",
       "</style>\n",
       "<table border=\"1\" class=\"dataframe\">\n",
       "  <thead>\n",
       "    <tr style=\"text-align: right;\">\n",
       "      <th></th>\n",
       "      <th>id</th>\n",
       "      <th>name</th>\n",
       "      <th>image_url</th>\n",
       "      <th>artist_id</th>\n",
       "      <th>rating</th>\n",
       "      <th>AI_Generated</th>\n",
       "    </tr>\n",
       "  </thead>\n",
       "  <tbody>\n",
       "    <tr>\n",
       "      <th>0</th>\n",
       "      <td>0</td>\n",
       "      <td>Cafe Terrace on the Place du Forum</td>\n",
       "      <td>https://kuleuven-datathon-2023.s3.eu-central-1...</td>\n",
       "      <td>0</td>\n",
       "      <td>8.0</td>\n",
       "      <td>0</td>\n",
       "    </tr>\n",
       "    <tr>\n",
       "      <th>1</th>\n",
       "      <td>1</td>\n",
       "      <td>Starry Night</td>\n",
       "      <td>https://kuleuven-datathon-2023.s3.eu-central-1...</td>\n",
       "      <td>0</td>\n",
       "      <td>9.0</td>\n",
       "      <td>0</td>\n",
       "    </tr>\n",
       "    <tr>\n",
       "      <th>2</th>\n",
       "      <td>2</td>\n",
       "      <td>A Digger</td>\n",
       "      <td>https://kuleuven-datathon-2023.s3.eu-central-1...</td>\n",
       "      <td>0</td>\n",
       "      <td>7.0</td>\n",
       "      <td>0</td>\n",
       "    </tr>\n",
       "    <tr>\n",
       "      <th>3</th>\n",
       "      <td>3</td>\n",
       "      <td>A Group of Cottages</td>\n",
       "      <td>https://kuleuven-datathon-2023.s3.eu-central-1...</td>\n",
       "      <td>0</td>\n",
       "      <td>6.0</td>\n",
       "      <td>0</td>\n",
       "    </tr>\n",
       "    <tr>\n",
       "      <th>4</th>\n",
       "      <td>4</td>\n",
       "      <td>A Pair of Shoes</td>\n",
       "      <td>https://kuleuven-datathon-2023.s3.eu-central-1...</td>\n",
       "      <td>0</td>\n",
       "      <td>8.0</td>\n",
       "      <td>0</td>\n",
       "    </tr>\n",
       "  </tbody>\n",
       "</table>\n",
       "</div>"
      ],
      "text/plain": [
       "   id                                name  \\\n",
       "0   0  Cafe Terrace on the Place du Forum   \n",
       "1   1                        Starry Night   \n",
       "2   2                            A Digger   \n",
       "3   3                 A Group of Cottages   \n",
       "4   4                     A Pair of Shoes   \n",
       "\n",
       "                                           image_url  artist_id  rating  \\\n",
       "0  https://kuleuven-datathon-2023.s3.eu-central-1...          0     8.0   \n",
       "1  https://kuleuven-datathon-2023.s3.eu-central-1...          0     9.0   \n",
       "2  https://kuleuven-datathon-2023.s3.eu-central-1...          0     7.0   \n",
       "3  https://kuleuven-datathon-2023.s3.eu-central-1...          0     6.0   \n",
       "4  https://kuleuven-datathon-2023.s3.eu-central-1...          0     8.0   \n",
       "\n",
       "   AI_Generated  \n",
       "0             0  \n",
       "1             0  \n",
       "2             0  \n",
       "3             0  \n",
       "4             0  "
      ]
     },
     "execution_count": 282,
     "metadata": {},
     "output_type": "execute_result"
    }
   ],
   "source": [
    "Artwork2[\"AI_Generated\"] = 0\n",
    "Artwork2.head()"
   ]
  },
  {
   "cell_type": "code",
   "execution_count": 116,
   "id": "ac4e9119-8586-4a62-8088-a3204737426d",
   "metadata": {},
   "outputs": [
    {
     "data": {
      "text/plain": [
       "0    https://kuleuven-datathon-2023.s3.eu-central-1.amazonaws.com/images/Vincent+Van+Gogh/Cafe+Terrace+on+the+Place+du+Forum.jpg\n",
       "1                          https://kuleuven-datathon-2023.s3.eu-central-1.amazonaws.com/images/Vincent+Van+Gogh/Starry+Night.jpg\n",
       "2                              https://kuleuven-datathon-2023.s3.eu-central-1.amazonaws.com/images/Vincent+Van+Gogh/A+Digger.jpg\n",
       "3                   https://kuleuven-datathon-2023.s3.eu-central-1.amazonaws.com/images/Vincent+Van+Gogh/A+Group+of+Cottages.jpg\n",
       "4                       https://kuleuven-datathon-2023.s3.eu-central-1.amazonaws.com/images/Vincent+Van+Gogh/A+Pair+of+Shoes.jpg\n",
       "Name: image_url, dtype: object"
      ]
     },
     "execution_count": 116,
     "metadata": {},
     "output_type": "execute_result"
    }
   ],
   "source": [
    "pd.set_option('max_colwidth', 200)\n",
    "Artwork[\"image_url\"].head(5)"
   ]
  },
  {
   "cell_type": "markdown",
   "id": "2927f1a8-7568-41f5-b058-9dd60d0f6506",
   "metadata": {},
   "source": [
    "# Generated"
   ]
  },
  {
   "cell_type": "code",
   "execution_count": 126,
   "id": "9011bd1b-705c-480b-8934-631f74c12525",
   "metadata": {},
   "outputs": [
    {
     "data": {
      "text/plain": [
       "(3447, 2)"
      ]
     },
     "execution_count": 126,
     "metadata": {},
     "output_type": "execute_result"
    }
   ],
   "source": [
    "Generated.shape"
   ]
  },
  {
   "cell_type": "code",
   "execution_count": 154,
   "id": "be5f5cf3-6310-4feb-84f5-af98aff49994",
   "metadata": {},
   "outputs": [
    {
     "data": {
      "text/html": [
       "<div>\n",
       "<style scoped>\n",
       "    .dataframe tbody tr th:only-of-type {\n",
       "        vertical-align: middle;\n",
       "    }\n",
       "\n",
       "    .dataframe tbody tr th {\n",
       "        vertical-align: top;\n",
       "    }\n",
       "\n",
       "    .dataframe thead th {\n",
       "        text-align: right;\n",
       "    }\n",
       "</style>\n",
       "<table border=\"1\" class=\"dataframe\">\n",
       "  <thead>\n",
       "    <tr style=\"text-align: right;\">\n",
       "      <th></th>\n",
       "      <th>source_artwork</th>\n",
       "      <th>url</th>\n",
       "      <th>AI_Generated</th>\n",
       "    </tr>\n",
       "  </thead>\n",
       "  <tbody>\n",
       "    <tr>\n",
       "      <th>0</th>\n",
       "      <td>3148</td>\n",
       "      <td>https://kuleuven-datathon-2023.s3.eu-central-1...</td>\n",
       "      <td>1</td>\n",
       "    </tr>\n",
       "    <tr>\n",
       "      <th>1</th>\n",
       "      <td>1480</td>\n",
       "      <td>https://kuleuven-datathon-2023.s3.eu-central-1...</td>\n",
       "      <td>1</td>\n",
       "    </tr>\n",
       "    <tr>\n",
       "      <th>2</th>\n",
       "      <td>182</td>\n",
       "      <td>https://kuleuven-datathon-2023.s3.eu-central-1...</td>\n",
       "      <td>1</td>\n",
       "    </tr>\n",
       "    <tr>\n",
       "      <th>3</th>\n",
       "      <td>2493</td>\n",
       "      <td>https://kuleuven-datathon-2023.s3.eu-central-1...</td>\n",
       "      <td>1</td>\n",
       "    </tr>\n",
       "    <tr>\n",
       "      <th>4</th>\n",
       "      <td>2497</td>\n",
       "      <td>https://kuleuven-datathon-2023.s3.eu-central-1...</td>\n",
       "      <td>1</td>\n",
       "    </tr>\n",
       "  </tbody>\n",
       "</table>\n",
       "</div>"
      ],
      "text/plain": [
       "   source_artwork                                                url  \\\n",
       "0            3148  https://kuleuven-datathon-2023.s3.eu-central-1...   \n",
       "1            1480  https://kuleuven-datathon-2023.s3.eu-central-1...   \n",
       "2             182  https://kuleuven-datathon-2023.s3.eu-central-1...   \n",
       "3            2493  https://kuleuven-datathon-2023.s3.eu-central-1...   \n",
       "4            2497  https://kuleuven-datathon-2023.s3.eu-central-1...   \n",
       "\n",
       "   AI_Generated  \n",
       "0             1  \n",
       "1             1  \n",
       "2             1  \n",
       "3             1  \n",
       "4             1  "
      ]
     },
     "execution_count": 154,
     "metadata": {},
     "output_type": "execute_result"
    }
   ],
   "source": [
    "Generated.head()"
   ]
  },
  {
   "cell_type": "code",
   "execution_count": 6,
   "id": "3a0824c9-4f55-4e29-befe-a1f671b049f3",
   "metadata": {},
   "outputs": [
    {
     "data": {
      "text/html": [
       "<div>\n",
       "<style scoped>\n",
       "    .dataframe tbody tr th:only-of-type {\n",
       "        vertical-align: middle;\n",
       "    }\n",
       "\n",
       "    .dataframe tbody tr th {\n",
       "        vertical-align: top;\n",
       "    }\n",
       "\n",
       "    .dataframe thead th {\n",
       "        text-align: right;\n",
       "    }\n",
       "</style>\n",
       "<table border=\"1\" class=\"dataframe\">\n",
       "  <thead>\n",
       "    <tr style=\"text-align: right;\">\n",
       "      <th></th>\n",
       "      <th>source_artwork</th>\n",
       "      <th>image_url</th>\n",
       "      <th>AI_Generated</th>\n",
       "    </tr>\n",
       "  </thead>\n",
       "  <tbody>\n",
       "    <tr>\n",
       "      <th>0</th>\n",
       "      <td>3148</td>\n",
       "      <td>https://kuleuven-datathon-2023.s3.eu-central-1...</td>\n",
       "      <td>1</td>\n",
       "    </tr>\n",
       "    <tr>\n",
       "      <th>1</th>\n",
       "      <td>1480</td>\n",
       "      <td>https://kuleuven-datathon-2023.s3.eu-central-1...</td>\n",
       "      <td>1</td>\n",
       "    </tr>\n",
       "    <tr>\n",
       "      <th>2</th>\n",
       "      <td>182</td>\n",
       "      <td>https://kuleuven-datathon-2023.s3.eu-central-1...</td>\n",
       "      <td>1</td>\n",
       "    </tr>\n",
       "    <tr>\n",
       "      <th>3</th>\n",
       "      <td>2493</td>\n",
       "      <td>https://kuleuven-datathon-2023.s3.eu-central-1...</td>\n",
       "      <td>1</td>\n",
       "    </tr>\n",
       "    <tr>\n",
       "      <th>4</th>\n",
       "      <td>2497</td>\n",
       "      <td>https://kuleuven-datathon-2023.s3.eu-central-1...</td>\n",
       "      <td>1</td>\n",
       "    </tr>\n",
       "  </tbody>\n",
       "</table>\n",
       "</div>"
      ],
      "text/plain": [
       "   source_artwork                                          image_url  \\\n",
       "0            3148  https://kuleuven-datathon-2023.s3.eu-central-1...   \n",
       "1            1480  https://kuleuven-datathon-2023.s3.eu-central-1...   \n",
       "2             182  https://kuleuven-datathon-2023.s3.eu-central-1...   \n",
       "3            2493  https://kuleuven-datathon-2023.s3.eu-central-1...   \n",
       "4            2497  https://kuleuven-datathon-2023.s3.eu-central-1...   \n",
       "\n",
       "   AI_Generated  \n",
       "0             1  \n",
       "1             1  \n",
       "2             1  \n",
       "3             1  \n",
       "4             1  "
      ]
     },
     "execution_count": 6,
     "metadata": {},
     "output_type": "execute_result"
    }
   ],
   "source": [
    "Generated[\"AI_Generated\"] = 1 \n",
    "Generated2 = Generated.rename(columns = {'url':'image_url'})\n",
    "Generated2.head()"
   ]
  },
  {
   "cell_type": "markdown",
   "id": "b5641118-c81e-43cb-9a91-484cf4815ca2",
   "metadata": {},
   "source": [
    "# Movement"
   ]
  },
  {
   "cell_type": "code",
   "execution_count": 299,
   "id": "4fd6e34f-c06a-43cf-9411-5b133bb6c1b0",
   "metadata": {
    "tags": []
   },
   "outputs": [
    {
     "data": {
      "text/html": [
       "<div>\n",
       "<style scoped>\n",
       "    .dataframe tbody tr th:only-of-type {\n",
       "        vertical-align: middle;\n",
       "    }\n",
       "\n",
       "    .dataframe tbody tr th {\n",
       "        vertical-align: top;\n",
       "    }\n",
       "\n",
       "    .dataframe thead th {\n",
       "        text-align: right;\n",
       "    }\n",
       "</style>\n",
       "<table border=\"1\" class=\"dataframe\">\n",
       "  <thead>\n",
       "    <tr style=\"text-align: right;\">\n",
       "      <th></th>\n",
       "      <th>artist_id</th>\n",
       "      <th>movement_id</th>\n",
       "    </tr>\n",
       "  </thead>\n",
       "  <tbody>\n",
       "    <tr>\n",
       "      <th>0</th>\n",
       "      <td>0.0</td>\n",
       "      <td>43.0</td>\n",
       "    </tr>\n",
       "    <tr>\n",
       "      <th>1</th>\n",
       "      <td>1.0</td>\n",
       "      <td>44.0</td>\n",
       "    </tr>\n",
       "    <tr>\n",
       "      <th>2</th>\n",
       "      <td>2.0</td>\n",
       "      <td>44.0</td>\n",
       "    </tr>\n",
       "    <tr>\n",
       "      <th>3</th>\n",
       "      <td>4.0</td>\n",
       "      <td>10.0</td>\n",
       "    </tr>\n",
       "    <tr>\n",
       "      <th>4</th>\n",
       "      <td>4.0</td>\n",
       "      <td>52.0</td>\n",
       "    </tr>\n",
       "  </tbody>\n",
       "</table>\n",
       "</div>"
      ],
      "text/plain": [
       "   artist_id  movement_id\n",
       "0        0.0         43.0\n",
       "1        1.0         44.0\n",
       "2        2.0         44.0\n",
       "3        4.0         10.0\n",
       "4        4.0         52.0"
      ]
     },
     "execution_count": 299,
     "metadata": {},
     "output_type": "execute_result"
    }
   ],
   "source": [
    "Movement.head()"
   ]
  },
  {
   "cell_type": "markdown",
   "id": "c37c6dfb-6fb5-49df-9e69-48ec380e2c53",
   "metadata": {},
   "source": [
    "# Specialization "
   ]
  },
  {
   "cell_type": "code",
   "execution_count": 168,
   "id": "3f1b246c-3be1-4f81-8195-2fcc15360c99",
   "metadata": {},
   "outputs": [
    {
     "data": {
      "text/html": [
       "<div>\n",
       "<style scoped>\n",
       "    .dataframe tbody tr th:only-of-type {\n",
       "        vertical-align: middle;\n",
       "    }\n",
       "\n",
       "    .dataframe tbody tr th {\n",
       "        vertical-align: top;\n",
       "    }\n",
       "\n",
       "    .dataframe thead th {\n",
       "        text-align: right;\n",
       "    }\n",
       "</style>\n",
       "<table border=\"1\" class=\"dataframe\">\n",
       "  <thead>\n",
       "    <tr style=\"text-align: right;\">\n",
       "      <th></th>\n",
       "      <th>artist_id</th>\n",
       "      <th>specialty_id</th>\n",
       "    </tr>\n",
       "  </thead>\n",
       "  <tbody>\n",
       "    <tr>\n",
       "      <th>0</th>\n",
       "      <td>0.0</td>\n",
       "      <td>0.0</td>\n",
       "    </tr>\n",
       "    <tr>\n",
       "      <th>1</th>\n",
       "      <td>0.0</td>\n",
       "      <td>1.0</td>\n",
       "    </tr>\n",
       "    <tr>\n",
       "      <th>2</th>\n",
       "      <td>0.0</td>\n",
       "      <td>2.0</td>\n",
       "    </tr>\n",
       "    <tr>\n",
       "      <th>3</th>\n",
       "      <td>0.0</td>\n",
       "      <td>3.0</td>\n",
       "    </tr>\n",
       "    <tr>\n",
       "      <th>4</th>\n",
       "      <td>1.0</td>\n",
       "      <td>2.0</td>\n",
       "    </tr>\n",
       "  </tbody>\n",
       "</table>\n",
       "</div>"
      ],
      "text/plain": [
       "   artist_id  specialty_id\n",
       "0        0.0           0.0\n",
       "1        0.0           1.0\n",
       "2        0.0           2.0\n",
       "3        0.0           3.0\n",
       "4        1.0           2.0"
      ]
     },
     "execution_count": 168,
     "metadata": {},
     "output_type": "execute_result"
    }
   ],
   "source": [
    "Special.head()"
   ]
  },
  {
   "cell_type": "markdown",
   "id": "c4f6cea5-8a74-4cc4-9143-49b9b8a71531",
   "metadata": {},
   "source": [
    "# Artist"
   ]
  },
  {
   "cell_type": "code",
   "execution_count": 205,
   "id": "ae94e06c-8224-4447-be8d-e2594f4a68c2",
   "metadata": {},
   "outputs": [
    {
     "data": {
      "text/html": [
       "<div>\n",
       "<style scoped>\n",
       "    .dataframe tbody tr th:only-of-type {\n",
       "        vertical-align: middle;\n",
       "    }\n",
       "\n",
       "    .dataframe tbody tr th {\n",
       "        vertical-align: top;\n",
       "    }\n",
       "\n",
       "    .dataframe thead th {\n",
       "        text-align: right;\n",
       "    }\n",
       "</style>\n",
       "<table border=\"1\" class=\"dataframe\">\n",
       "  <thead>\n",
       "    <tr style=\"text-align: right;\">\n",
       "      <th></th>\n",
       "      <th>id</th>\n",
       "      <th>name</th>\n",
       "      <th>url</th>\n",
       "      <th>summary</th>\n",
       "      <th>picture</th>\n",
       "      <th>birthplace</th>\n",
       "      <th>deathplace</th>\n",
       "      <th>birthdate</th>\n",
       "      <th>deathdate</th>\n",
       "      <th>cause_of_death</th>\n",
       "    </tr>\n",
       "  </thead>\n",
       "  <tbody>\n",
       "    <tr>\n",
       "      <th>265</th>\n",
       "      <td>265</td>\n",
       "      <td>Frank Gresley</td>\n",
       "      <td>https://www.wikigallery.org//wiki/artist61226/...</td>\n",
       "      <td>Frank Gresley (1855–1936) was a British artist...</td>\n",
       "      <td>NaN</td>\n",
       "      <td>NaN</td>\n",
       "      <td>NaN</td>\n",
       "      <td>NaN</td>\n",
       "      <td>NaN</td>\n",
       "      <td>NaN</td>\n",
       "    </tr>\n",
       "    <tr>\n",
       "      <th>116</th>\n",
       "      <td>116</td>\n",
       "      <td>Auguste Joseph Marie De Mersseman</td>\n",
       "      <td>https://www.wikigallery.org//wiki/artist57946/...</td>\n",
       "      <td>NaN</td>\n",
       "      <td>NaN</td>\n",
       "      <td>NaN</td>\n",
       "      <td>NaN</td>\n",
       "      <td>NaN</td>\n",
       "      <td>NaN</td>\n",
       "      <td>NaN</td>\n",
       "    </tr>\n",
       "    <tr>\n",
       "      <th>52</th>\n",
       "      <td>52</td>\n",
       "      <td>William Merritt Chase</td>\n",
       "      <td>http://wikigallery.org/wiki/artist40281/Willia...</td>\n",
       "      <td>William Merritt Chase (November 1, 1849 – Octo...</td>\n",
       "      <td>52.0</td>\n",
       "      <td>35.0</td>\n",
       "      <td>142.0</td>\n",
       "      <td>1849-11-01</td>\n",
       "      <td>1916-10-25</td>\n",
       "      <td>NaN</td>\n",
       "    </tr>\n",
       "    <tr>\n",
       "      <th>486</th>\n",
       "      <td>486</td>\n",
       "      <td>Myles Birket Foster</td>\n",
       "      <td>https://www.wikigallery.org//wiki/artist48895/...</td>\n",
       "      <td>Myles Birket Foster  (4 February 1825 – 27 Mar...</td>\n",
       "      <td>NaN</td>\n",
       "      <td>NaN</td>\n",
       "      <td>NaN</td>\n",
       "      <td>NaN</td>\n",
       "      <td>NaN</td>\n",
       "      <td>NaN</td>\n",
       "    </tr>\n",
       "    <tr>\n",
       "      <th>326</th>\n",
       "      <td>326</td>\n",
       "      <td>French School</td>\n",
       "      <td>https://www.wikigallery.org//wiki/artist61277/...</td>\n",
       "      <td>Education in France is organized in a highly c...</td>\n",
       "      <td>NaN</td>\n",
       "      <td>NaN</td>\n",
       "      <td>NaN</td>\n",
       "      <td>NaN</td>\n",
       "      <td>NaN</td>\n",
       "      <td>NaN</td>\n",
       "    </tr>\n",
       "  </tbody>\n",
       "</table>\n",
       "</div>"
      ],
      "text/plain": [
       "      id                               name  \\\n",
       "265  265                      Frank Gresley   \n",
       "116  116  Auguste Joseph Marie De Mersseman   \n",
       "52    52              William Merritt Chase   \n",
       "486  486                Myles Birket Foster   \n",
       "326  326                      French School   \n",
       "\n",
       "                                                   url  \\\n",
       "265  https://www.wikigallery.org//wiki/artist61226/...   \n",
       "116  https://www.wikigallery.org//wiki/artist57946/...   \n",
       "52   http://wikigallery.org/wiki/artist40281/Willia...   \n",
       "486  https://www.wikigallery.org//wiki/artist48895/...   \n",
       "326  https://www.wikigallery.org//wiki/artist61277/...   \n",
       "\n",
       "                                               summary  picture  birthplace  \\\n",
       "265  Frank Gresley (1855–1936) was a British artist...      NaN         NaN   \n",
       "116                                                NaN      NaN         NaN   \n",
       "52   William Merritt Chase (November 1, 1849 – Octo...     52.0        35.0   \n",
       "486  Myles Birket Foster  (4 February 1825 – 27 Mar...      NaN         NaN   \n",
       "326  Education in France is organized in a highly c...      NaN         NaN   \n",
       "\n",
       "     deathplace   birthdate   deathdate cause_of_death  \n",
       "265         NaN         NaN         NaN            NaN  \n",
       "116         NaN         NaN         NaN            NaN  \n",
       "52        142.0  1849-11-01  1916-10-25            NaN  \n",
       "486         NaN         NaN         NaN            NaN  \n",
       "326         NaN         NaN         NaN            NaN  "
      ]
     },
     "execution_count": 205,
     "metadata": {},
     "output_type": "execute_result"
    }
   ],
   "source": [
    "Artist.sample(5)"
   ]
  },
  {
   "cell_type": "code",
   "execution_count": 206,
   "id": "bc912161-72ad-4070-8c95-b2d7c10bfa86",
   "metadata": {},
   "outputs": [
    {
     "data": {
      "text/plain": [
       "0.9967532467532467"
      ]
     },
     "execution_count": 206,
     "metadata": {},
     "output_type": "execute_result"
    }
   ],
   "source": [
    "Artist[\"cause_of_death\"].isna().sum()/len(Artist) #cause of data column should be removed due to large number of NAs"
   ]
  },
  {
   "cell_type": "code",
   "execution_count": 208,
   "id": "e411fc2b-a376-4f43-b511-022295dd59ea",
   "metadata": {},
   "outputs": [
    {
     "data": {
      "text/plain": [
       "0.5"
      ]
     },
     "execution_count": 208,
     "metadata": {},
     "output_type": "execute_result"
    }
   ],
   "source": [
    "Artist[\"birthplace\"].isna().sum()/len(Artist)"
   ]
  },
  {
   "cell_type": "code",
   "execution_count": 209,
   "id": "7e1fdf35-f824-4004-83cf-c5631deb7582",
   "metadata": {},
   "outputs": [
    {
     "data": {
      "text/plain": [
       "0.5275974025974026"
      ]
     },
     "execution_count": 209,
     "metadata": {},
     "output_type": "execute_result"
    }
   ],
   "source": [
    "Artist[\"deathplace\"].isna().sum()/len(Artist)"
   ]
  },
  {
   "cell_type": "code",
   "execution_count": 210,
   "id": "9352191b-a270-4af6-a427-14b459cd7207",
   "metadata": {},
   "outputs": [
    {
     "data": {
      "text/plain": [
       "0.6347402597402597"
      ]
     },
     "execution_count": 210,
     "metadata": {},
     "output_type": "execute_result"
    }
   ],
   "source": [
    "Artist[\"birthdate\"].isna().sum()/len(Artist)"
   ]
  },
  {
   "cell_type": "code",
   "execution_count": 211,
   "id": "9198477e-67e6-4ffa-820f-dca8a3d1e94d",
   "metadata": {},
   "outputs": [
    {
     "data": {
      "text/plain": [
       "0.5616883116883117"
      ]
     },
     "execution_count": 211,
     "metadata": {},
     "output_type": "execute_result"
    }
   ],
   "source": [
    "Artist[\"deathdate\"].isna().sum()/len(Artist)"
   ]
  },
  {
   "cell_type": "code",
   "execution_count": 7,
   "id": "9c48abf4-0ee8-40a3-9b72-af16c2baec58",
   "metadata": {},
   "outputs": [
    {
     "data": {
      "text/html": [
       "<div>\n",
       "<style scoped>\n",
       "    .dataframe tbody tr th:only-of-type {\n",
       "        vertical-align: middle;\n",
       "    }\n",
       "\n",
       "    .dataframe tbody tr th {\n",
       "        vertical-align: top;\n",
       "    }\n",
       "\n",
       "    .dataframe thead th {\n",
       "        text-align: right;\n",
       "    }\n",
       "</style>\n",
       "<table border=\"1\" class=\"dataframe\">\n",
       "  <thead>\n",
       "    <tr style=\"text-align: right;\">\n",
       "      <th></th>\n",
       "      <th>artist_id</th>\n",
       "      <th>picture</th>\n",
       "      <th>birthplace</th>\n",
       "      <th>deathplace</th>\n",
       "      <th>birthdate</th>\n",
       "      <th>deathdate</th>\n",
       "    </tr>\n",
       "  </thead>\n",
       "  <tbody>\n",
       "    <tr>\n",
       "      <th>0</th>\n",
       "      <td>0.0</td>\n",
       "      <td>0.0</td>\n",
       "      <td>0.0</td>\n",
       "      <td>342.0</td>\n",
       "      <td>1853-03-30</td>\n",
       "      <td>1890-07-29</td>\n",
       "    </tr>\n",
       "    <tr>\n",
       "      <th>1</th>\n",
       "      <td>1.0</td>\n",
       "      <td>1.0</td>\n",
       "      <td>1.0</td>\n",
       "      <td>343.0</td>\n",
       "      <td>1841-02-25</td>\n",
       "      <td>1919-12-03</td>\n",
       "    </tr>\n",
       "    <tr>\n",
       "      <th>2</th>\n",
       "      <td>2.0</td>\n",
       "      <td>2.0</td>\n",
       "      <td>2.0</td>\n",
       "      <td>344.0</td>\n",
       "      <td>1840-11-14</td>\n",
       "      <td>1926-12-05</td>\n",
       "    </tr>\n",
       "    <tr>\n",
       "      <th>3</th>\n",
       "      <td>3.0</td>\n",
       "      <td>3.0</td>\n",
       "      <td>3.0</td>\n",
       "      <td>NaN</td>\n",
       "      <td>1932-04-19</td>\n",
       "      <td>NaN</td>\n",
       "    </tr>\n",
       "    <tr>\n",
       "      <th>4</th>\n",
       "      <td>4.0</td>\n",
       "      <td>4.0</td>\n",
       "      <td>4.0</td>\n",
       "      <td>2.0</td>\n",
       "      <td>1824-05-11</td>\n",
       "      <td>1904-01-10</td>\n",
       "    </tr>\n",
       "  </tbody>\n",
       "</table>\n",
       "</div>"
      ],
      "text/plain": [
       "   artist_id  picture  birthplace  deathplace   birthdate   deathdate\n",
       "0        0.0      0.0         0.0       342.0  1853-03-30  1890-07-29\n",
       "1        1.0      1.0         1.0       343.0  1841-02-25  1919-12-03\n",
       "2        2.0      2.0         2.0       344.0  1840-11-14  1926-12-05\n",
       "3        3.0      3.0         3.0         NaN  1932-04-19         NaN\n",
       "4        4.0      4.0         4.0         2.0  1824-05-11  1904-01-10"
      ]
     },
     "execution_count": 7,
     "metadata": {},
     "output_type": "execute_result"
    }
   ],
   "source": [
    "Artist2 = Artist.iloc[:,[0,4,5,6,7,8]]\n",
    "Artist2 = Artist2.rename(columns = {\"id\": \"artist_id\"})\n",
    "Artist2['artist_id'] = Artist2['artist_id'].astype(float)\n",
    "Artist2.head()"
   ]
  },
  {
   "cell_type": "markdown",
   "id": "06c7dfbc-b6d3-4f98-8319-86b558ae9e00",
   "metadata": {},
   "source": [
    "# Artist Education"
   ]
  },
  {
   "cell_type": "code",
   "execution_count": 223,
   "id": "a756debb-f792-4d7a-9532-f5907bcf0f58",
   "metadata": {},
   "outputs": [
    {
     "data": {
      "text/html": [
       "<div>\n",
       "<style scoped>\n",
       "    .dataframe tbody tr th:only-of-type {\n",
       "        vertical-align: middle;\n",
       "    }\n",
       "\n",
       "    .dataframe tbody tr th {\n",
       "        vertical-align: top;\n",
       "    }\n",
       "\n",
       "    .dataframe thead th {\n",
       "        text-align: right;\n",
       "    }\n",
       "</style>\n",
       "<table border=\"1\" class=\"dataframe\">\n",
       "  <thead>\n",
       "    <tr style=\"text-align: right;\">\n",
       "      <th></th>\n",
       "      <th>artist_id</th>\n",
       "      <th>academy_id</th>\n",
       "    </tr>\n",
       "  </thead>\n",
       "  <tbody>\n",
       "    <tr>\n",
       "      <th>0</th>\n",
       "      <td>0.0</td>\n",
       "      <td>0.0</td>\n",
       "    </tr>\n",
       "    <tr>\n",
       "      <th>1</th>\n",
       "      <td>0.0</td>\n",
       "      <td>1.0</td>\n",
       "    </tr>\n",
       "    <tr>\n",
       "      <th>2</th>\n",
       "      <td>2.0</td>\n",
       "      <td>2.0</td>\n",
       "    </tr>\n",
       "    <tr>\n",
       "      <th>3</th>\n",
       "      <td>2.0</td>\n",
       "      <td>3.0</td>\n",
       "    </tr>\n",
       "    <tr>\n",
       "      <th>4</th>\n",
       "      <td>9.0</td>\n",
       "      <td>4.0</td>\n",
       "    </tr>\n",
       "  </tbody>\n",
       "</table>\n",
       "</div>"
      ],
      "text/plain": [
       "   artist_id  academy_id\n",
       "0        0.0         0.0\n",
       "1        0.0         1.0\n",
       "2        2.0         2.0\n",
       "3        2.0         3.0\n",
       "4        9.0         4.0"
      ]
     },
     "execution_count": 223,
     "metadata": {},
     "output_type": "execute_result"
    }
   ],
   "source": [
    "Education.head()"
   ]
  },
  {
   "cell_type": "markdown",
   "id": "af084361-7d37-44b5-a80d-069f797be3bf",
   "metadata": {},
   "source": [
    "# Places"
   ]
  },
  {
   "cell_type": "code",
   "execution_count": 229,
   "id": "b188b2e9-d24e-430f-a5c1-bab4d53a253f",
   "metadata": {},
   "outputs": [
    {
     "data": {
      "text/html": [
       "<div>\n",
       "<style scoped>\n",
       "    .dataframe tbody tr th:only-of-type {\n",
       "        vertical-align: middle;\n",
       "    }\n",
       "\n",
       "    .dataframe tbody tr th {\n",
       "        vertical-align: top;\n",
       "    }\n",
       "\n",
       "    .dataframe thead th {\n",
       "        text-align: right;\n",
       "    }\n",
       "</style>\n",
       "<table border=\"1\" class=\"dataframe\">\n",
       "  <thead>\n",
       "    <tr style=\"text-align: right;\">\n",
       "      <th></th>\n",
       "      <th>id</th>\n",
       "      <th>name</th>\n",
       "      <th>parent</th>\n",
       "    </tr>\n",
       "  </thead>\n",
       "  <tbody>\n",
       "    <tr>\n",
       "      <th>0</th>\n",
       "      <td>0</td>\n",
       "      <td>Zundert</td>\n",
       "      <td>213.0</td>\n",
       "    </tr>\n",
       "    <tr>\n",
       "      <th>1</th>\n",
       "      <td>1</td>\n",
       "      <td>Limoges</td>\n",
       "      <td>214.0</td>\n",
       "    </tr>\n",
       "    <tr>\n",
       "      <th>2</th>\n",
       "      <td>2</td>\n",
       "      <td>Paris</td>\n",
       "      <td>214.0</td>\n",
       "    </tr>\n",
       "    <tr>\n",
       "      <th>3</th>\n",
       "      <td>3</td>\n",
       "      <td>Medellín</td>\n",
       "      <td>215.0</td>\n",
       "    </tr>\n",
       "    <tr>\n",
       "      <th>4</th>\n",
       "      <td>4</td>\n",
       "      <td>Vesoul</td>\n",
       "      <td>216.0</td>\n",
       "    </tr>\n",
       "  </tbody>\n",
       "</table>\n",
       "</div>"
      ],
      "text/plain": [
       "   id      name  parent\n",
       "0   0   Zundert   213.0\n",
       "1   1   Limoges   214.0\n",
       "2   2     Paris   214.0\n",
       "3   3  Medellín   215.0\n",
       "4   4    Vesoul   216.0"
      ]
     },
     "execution_count": 229,
     "metadata": {},
     "output_type": "execute_result"
    }
   ],
   "source": [
    "Places.head()"
   ]
  },
  {
   "cell_type": "code",
   "execution_count": 8,
   "id": "f433d253-b818-4f21-b765-8f611f3fc62d",
   "metadata": {},
   "outputs": [],
   "source": [
    "Places2 = Places.iloc[:,[0,2]]\n",
    "Places2 = Places2.rename(columns = {\"id\": \"artist_id\"})"
   ]
  },
  {
   "cell_type": "markdown",
   "id": "88620bb9-4731-4afd-aa70-63eebe5532af",
   "metadata": {},
   "source": [
    "# Recommendation"
   ]
  },
  {
   "cell_type": "code",
   "execution_count": 30,
   "id": "095f1485-f946-42d5-a57e-c5c8bb80cb2e",
   "metadata": {},
   "outputs": [
    {
     "data": {
      "text/html": [
       "<div>\n",
       "<style scoped>\n",
       "    .dataframe tbody tr th:only-of-type {\n",
       "        vertical-align: middle;\n",
       "    }\n",
       "\n",
       "    .dataframe tbody tr th {\n",
       "        vertical-align: top;\n",
       "    }\n",
       "\n",
       "    .dataframe thead th {\n",
       "        text-align: right;\n",
       "    }\n",
       "</style>\n",
       "<table border=\"1\" class=\"dataframe\">\n",
       "  <thead>\n",
       "    <tr style=\"text-align: right;\">\n",
       "      <th></th>\n",
       "      <th>id</th>\n",
       "      <th>num_rels</th>\n",
       "    </tr>\n",
       "  </thead>\n",
       "  <tbody>\n",
       "    <tr>\n",
       "      <th>0</th>\n",
       "      <td>0</td>\n",
       "      <td>1</td>\n",
       "    </tr>\n",
       "    <tr>\n",
       "      <th>1</th>\n",
       "      <td>1</td>\n",
       "      <td>1</td>\n",
       "    </tr>\n",
       "    <tr>\n",
       "      <th>2</th>\n",
       "      <td>2</td>\n",
       "      <td>5</td>\n",
       "    </tr>\n",
       "    <tr>\n",
       "      <th>3</th>\n",
       "      <td>3</td>\n",
       "      <td>0</td>\n",
       "    </tr>\n",
       "    <tr>\n",
       "      <th>4</th>\n",
       "      <td>4</td>\n",
       "      <td>0</td>\n",
       "    </tr>\n",
       "  </tbody>\n",
       "</table>\n",
       "</div>"
      ],
      "text/plain": [
       "   id  num_rels\n",
       "0   0         1\n",
       "1   1         1\n",
       "2   2         5\n",
       "3   3         0\n",
       "4   4         0"
      ]
     },
     "execution_count": 30,
     "metadata": {},
     "output_type": "execute_result"
    }
   ],
   "source": [
    "Rec.head()"
   ]
  },
  {
   "cell_type": "markdown",
   "id": "3a056cd3-f0de-4151-9910-84d3435a33d5",
   "metadata": {
    "tags": []
   },
   "source": [
    "# Text split"
   ]
  },
  {
   "cell_type": "code",
   "execution_count": 9,
   "id": "7c32b707-b6b4-422f-9ad6-3366e8102d5f",
   "metadata": {},
   "outputs": [],
   "source": [
    "def FindNumber(inputstr):\n",
    "    return inputstr.split(\"\\\\\")[-1].split(\".\")[0]"
   ]
  },
  {
   "cell_type": "code",
   "execution_count": 10,
   "id": "be6d3d96-c0e4-496d-9080-9f182237fcbf",
   "metadata": {},
   "outputs": [],
   "source": [
    "OutputReal[\"filename\"] = OutputReal.apply(lambda row: FindNumber(row['filename']), axis = 1)"
   ]
  },
  {
   "cell_type": "code",
   "execution_count": 11,
   "id": "8e156b87-6ac4-4f12-9206-aca1f74a2465",
   "metadata": {},
   "outputs": [],
   "source": [
    "OutputReal2 = OutputReal.rename(columns = {\"filename\":\"id\", \"logit\": \"real_logit\", \"time\":\"real_time\"})"
   ]
  },
  {
   "cell_type": "code",
   "execution_count": 12,
   "id": "39724bfb-9411-483a-a881-cdb19b8fc815",
   "metadata": {},
   "outputs": [],
   "source": [
    "OutputReal2['id'] = OutputReal2['id'].astype(float) #change to float values to match main dataframe"
   ]
  },
  {
   "cell_type": "code",
   "execution_count": 13,
   "id": "98a891ea-3dd0-4095-bdae-18dc4ea0ed49",
   "metadata": {},
   "outputs": [],
   "source": [
    "OutputFake[\"filename\"] = OutputFake.apply(lambda row: FindNumber(row['filename']), axis = 1)"
   ]
  },
  {
   "cell_type": "code",
   "execution_count": 14,
   "id": "c26e15fd-3916-4ede-8459-86c86ff0948d",
   "metadata": {},
   "outputs": [],
   "source": [
    "OutputFake2 = OutputFake.rename(columns = {\"filename\":\"id\", \"logit\": \"fake_logit\", \"time\":\"fake_time\"})"
   ]
  },
  {
   "cell_type": "code",
   "execution_count": 15,
   "id": "5b2e5542-3652-40c0-894b-bc58423b1ab2",
   "metadata": {},
   "outputs": [],
   "source": [
    "OutputFake2['id'] = OutputFake2['id'].astype(float) #change to float values to match main dataframe"
   ]
  },
  {
   "cell_type": "markdown",
   "id": "b1133eac-9a5d-4779-8252-e15edd7020b6",
   "metadata": {
    "tags": []
   },
   "source": [
    "# Merge Dataframes"
   ]
  },
  {
   "cell_type": "code",
   "execution_count": 16,
   "id": "914578c0-071b-489b-96e7-d89edaf5fe5d",
   "metadata": {},
   "outputs": [],
   "source": [
    "df_list1 = [Artwork2, Generated2]\n",
    "df1 = pd.concat(df_list1)"
   ]
  },
  {
   "cell_type": "code",
   "execution_count": 17,
   "id": "16fb91c8-b4bc-497c-985b-3e9fb7773132",
   "metadata": {},
   "outputs": [],
   "source": [
    "df_list2 = [Movement, Special, df1, Artist2, Education, Places2]\n",
    "\n",
    "df2 = reduce(lambda left, right: pd.merge(left, right, on = [\"artist_id\"], how = \"outer\"), df_list2)"
   ]
  },
  {
   "cell_type": "code",
   "execution_count": 235,
   "id": "2c189989-ce5b-40ad-b243-d98d549bab68",
   "metadata": {},
   "outputs": [
    {
     "data": {
      "text/plain": [
       "(20788, 20)"
      ]
     },
     "execution_count": 235,
     "metadata": {},
     "output_type": "execute_result"
    }
   ],
   "source": [
    "df2.shape"
   ]
  },
  {
   "cell_type": "code",
   "execution_count": 31,
   "id": "cc3beb16-8d53-42b7-9fc8-3cfa18c773fb",
   "metadata": {},
   "outputs": [],
   "source": [
    "df_list3 = [df2, OutputReal2, OutputFake2, FeaturesFake, FeaturesReal, Rec]\n",
    "df_list4 = [OutputReal2, OutputFake2, FeaturesFake, FeaturesReal]\n",
    "\n",
    "final_df = reduce(lambda left, right: pd.merge(left, right, on = [\"id\"], how = \"outer\"), df_list3)\n",
    "features_df = reduce(lambda left, right: pd.merge(left, right, on = [\"id\"], how = \"outer\"), df_list4)"
   ]
  },
  {
   "cell_type": "code",
   "execution_count": 32,
   "id": "d3b0649e-8a84-4803-ac06-6a6359a2d64c",
   "metadata": {},
   "outputs": [
    {
     "data": {
      "text/plain": [
       "(20791, 29)"
      ]
     },
     "execution_count": 32,
     "metadata": {},
     "output_type": "execute_result"
    }
   ],
   "source": [
    "final_df.shape"
   ]
  },
  {
   "cell_type": "code",
   "execution_count": 34,
   "id": "5c46b3ab-3fc3-472f-9cec-209e1434d22f",
   "metadata": {},
   "outputs": [],
   "source": [
    "final_df.to_csv(\"merged_data_final.csv\")"
   ]
  },
  {
   "cell_type": "code",
   "execution_count": 24,
   "id": "6a3c9eb5-2483-498e-ac8d-a8e48692a4d7",
   "metadata": {},
   "outputs": [],
   "source": [
    "features_df.to_csv(\"featues_df_final.csv\")"
   ]
  },
  {
   "cell_type": "code",
   "execution_count": null,
   "id": "9b33f215-eeb3-4422-b906-b83f6690e53f",
   "metadata": {},
   "outputs": [],
   "source": []
  }
 ],
 "metadata": {
  "kernelspec": {
   "display_name": "Python 3 (ipykernel)",
   "language": "python",
   "name": "python3"
  },
  "language_info": {
   "codemirror_mode": {
    "name": "ipython",
    "version": 3
   },
   "file_extension": ".py",
   "mimetype": "text/x-python",
   "name": "python",
   "nbconvert_exporter": "python",
   "pygments_lexer": "ipython3",
   "version": "3.9.13"
  }
 },
 "nbformat": 4,
 "nbformat_minor": 5
}
