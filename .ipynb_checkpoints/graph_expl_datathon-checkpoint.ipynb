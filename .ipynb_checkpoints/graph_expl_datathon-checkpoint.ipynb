{
 "cells": [
  {
   "cell_type": "code",
   "execution_count": 65,
   "id": "d2fc3891",
   "metadata": {},
   "outputs": [],
   "source": [
    "# PARAMETERS\n",
    "YOUR_PASSWORD: str = \"password\"\n",
    "YOUR_PORT: int = 7687 "
   ]
  },
  {
   "cell_type": "code",
   "execution_count": 66,
   "id": "d457fb01",
   "metadata": {},
   "outputs": [],
   "source": [
    "import pandas as pd\n",
    "from py2neo import Graph\n",
    "\n",
    "graph = Graph(f\"bolt://localhost:{7687}\",password= \"password\")\n",
    "graph.run('match (n) detach delete n') # Drops all data\n",
    "try:\n",
    "    indexes = graph.run('show indexes yield name').to_data_frame()['name'] # drops all indices\n",
    "    for index in indexes:\n",
    "        graph.run(f'drop index {index}')\n",
    "except:\n",
    "    pass"
   ]
  },
  {
   "cell_type": "code",
   "execution_count": 67,
   "id": "0c9bd822",
   "metadata": {},
   "outputs": [
    {
     "data": {
      "text/html": [
       "<div>\n",
       "<style scoped>\n",
       "    .dataframe tbody tr th:only-of-type {\n",
       "        vertical-align: middle;\n",
       "    }\n",
       "\n",
       "    .dataframe tbody tr th {\n",
       "        vertical-align: top;\n",
       "    }\n",
       "\n",
       "    .dataframe thead th {\n",
       "        text-align: right;\n",
       "    }\n",
       "</style>\n",
       "<table border=\"1\" class=\"dataframe\">\n",
       "  <thead>\n",
       "    <tr style=\"text-align: right;\">\n",
       "      <th></th>\n",
       "      <th>id</th>\n",
       "      <th>name</th>\n",
       "      <th>description</th>\n",
       "    </tr>\n",
       "  </thead>\n",
       "  <tbody>\n",
       "    <tr>\n",
       "      <th>0</th>\n",
       "      <td>0</td>\n",
       "      <td>Still Life</td>\n",
       "      <td>A still life (plural: still lifes) is a work o...</td>\n",
       "    </tr>\n",
       "    <tr>\n",
       "      <th>1</th>\n",
       "      <td>1</td>\n",
       "      <td>Portraits</td>\n",
       "      <td>A portrait is a painting, photograph, sculptur...</td>\n",
       "    </tr>\n",
       "  </tbody>\n",
       "</table>\n",
       "</div>"
      ],
      "text/plain": [
       "   id        name                                        description\n",
       "0   0  Still Life  A still life (plural: still lifes) is a work o...\n",
       "1   1   Portraits  A portrait is a painting, photograph, sculptur..."
      ]
     },
     "execution_count": 67,
     "metadata": {},
     "output_type": "execute_result"
    }
   ],
   "source": [
    "specialization = pd.read_parquet('https://kuleuven-datathon-2023.s3.eu-central-1.amazonaws.com/data/Specialization.parquet.gzip')\n",
    "specialization.head(2)"
   ]
  },
  {
   "cell_type": "code",
   "execution_count": 68,
   "id": "7accd855",
   "metadata": {},
   "outputs": [
    {
     "data": {
      "text/html": [
       "(No data)"
      ],
      "text/plain": [
       "(No data)"
      ]
     },
     "execution_count": 68,
     "metadata": {},
     "output_type": "execute_result"
    }
   ],
   "source": [
    "graph.run(\n",
    "\"\"\"\n",
    "LOAD CSV WITH HEADERS FROM \"https://kuleuven-datathon-2023.s3.eu-central-1.amazonaws.com/data/Specialization.csv\" AS csvLine\n",
    "MERGE (s:Specialization {\n",
    "    id: toInteger(csvLine.id), \n",
    "    name: csvLine.name,\n",
    "    description: csvLine.description\n",
    "    })\n",
    "\"\"\"\n",
    ")"
   ]
  },
  {
   "cell_type": "code",
   "execution_count": 69,
   "id": "d503ad31",
   "metadata": {},
   "outputs": [
    {
     "data": {
      "text/html": [
       "(No data)"
      ],
      "text/plain": [
       "(No data)"
      ]
     },
     "execution_count": 69,
     "metadata": {},
     "output_type": "execute_result"
    }
   ],
   "source": [
    "graph.run('CREATE INDEX specialization FOR (n:Specialization) ON (n.id)')"
   ]
  },
  {
   "cell_type": "code",
   "execution_count": 70,
   "id": "2c859252",
   "metadata": {},
   "outputs": [
    {
     "data": {
      "text/html": [
       "<div>\n",
       "<style scoped>\n",
       "    .dataframe tbody tr th:only-of-type {\n",
       "        vertical-align: middle;\n",
       "    }\n",
       "\n",
       "    .dataframe tbody tr th {\n",
       "        vertical-align: top;\n",
       "    }\n",
       "\n",
       "    .dataframe thead th {\n",
       "        text-align: right;\n",
       "    }\n",
       "</style>\n",
       "<table border=\"1\" class=\"dataframe\">\n",
       "  <thead>\n",
       "    <tr style=\"text-align: right;\">\n",
       "      <th></th>\n",
       "      <th>id</th>\n",
       "      <th>name</th>\n",
       "      <th>description</th>\n",
       "    </tr>\n",
       "  </thead>\n",
       "  <tbody>\n",
       "    <tr>\n",
       "      <th>0</th>\n",
       "      <td>0</td>\n",
       "      <td>Ashcan School</td>\n",
       "      <td>The Ashcan School, also called the Ash Can Sch...</td>\n",
       "    </tr>\n",
       "    <tr>\n",
       "      <th>1</th>\n",
       "      <td>1</td>\n",
       "      <td>Pre-Raphaelite Brotherhood</td>\n",
       "      <td>The Pre-Raphaelite Brotherhood (later known as...</td>\n",
       "    </tr>\n",
       "  </tbody>\n",
       "</table>\n",
       "</div>"
      ],
      "text/plain": [
       "   id                        name  \\\n",
       "0   0               Ashcan School   \n",
       "1   1  Pre-Raphaelite Brotherhood   \n",
       "\n",
       "                                         description  \n",
       "0  The Ashcan School, also called the Ash Can Sch...  \n",
       "1  The Pre-Raphaelite Brotherhood (later known as...  "
      ]
     },
     "execution_count": 70,
     "metadata": {},
     "output_type": "execute_result"
    }
   ],
   "source": [
    "movement = pd.read_parquet('https://kuleuven-datathon-2023.s3.eu-central-1.amazonaws.com/data/Movement.parquet.gzip')\n",
    "movement.head(2)"
   ]
  },
  {
   "cell_type": "code",
   "execution_count": 71,
   "id": "aafb6b9c",
   "metadata": {},
   "outputs": [
    {
     "data": {
      "text/html": [
       "(No data)"
      ],
      "text/plain": [
       "(No data)"
      ]
     },
     "execution_count": 71,
     "metadata": {},
     "output_type": "execute_result"
    }
   ],
   "source": [
    "graph.run(\n",
    "\"\"\"\n",
    "LOAD CSV WITH HEADERS FROM \"https://kuleuven-datathon-2023.s3.eu-central-1.amazonaws.com/data/Movement.csv\" AS csvLine\n",
    "MERGE (m:Movement {\n",
    "    id: toInteger(csvLine.id), \n",
    "    name: csvLine.name,\n",
    "    description: csvLine.description\n",
    "    })\n",
    "\"\"\"\n",
    ")"
   ]
  },
  {
   "cell_type": "code",
   "execution_count": 72,
   "id": "72ec3cd2",
   "metadata": {},
   "outputs": [
    {
     "data": {
      "text/html": [
       "(No data)"
      ],
      "text/plain": [
       "(No data)"
      ]
     },
     "execution_count": 72,
     "metadata": {},
     "output_type": "execute_result"
    }
   ],
   "source": [
    "graph.run('CREATE INDEX movement FOR (n:Movement) ON (n.id)')"
   ]
  },
  {
   "cell_type": "code",
   "execution_count": 73,
   "id": "45bdff6e",
   "metadata": {},
   "outputs": [
    {
     "data": {
      "text/html": [
       "<div>\n",
       "<style scoped>\n",
       "    .dataframe tbody tr th:only-of-type {\n",
       "        vertical-align: middle;\n",
       "    }\n",
       "\n",
       "    .dataframe tbody tr th {\n",
       "        vertical-align: top;\n",
       "    }\n",
       "\n",
       "    .dataframe thead th {\n",
       "        text-align: right;\n",
       "    }\n",
       "</style>\n",
       "<table border=\"1\" class=\"dataframe\">\n",
       "  <thead>\n",
       "    <tr style=\"text-align: right;\">\n",
       "      <th></th>\n",
       "      <th>id</th>\n",
       "      <th>name</th>\n",
       "      <th>description</th>\n",
       "    </tr>\n",
       "  </thead>\n",
       "  <tbody>\n",
       "    <tr>\n",
       "      <th>0</th>\n",
       "      <td>0</td>\n",
       "      <td>Royal Academy of Fine Arts Antwerp</td>\n",
       "      <td>The Royal Academy of Fine Arts Antwerp (Dutch:...</td>\n",
       "    </tr>\n",
       "    <tr>\n",
       "      <th>1</th>\n",
       "      <td>1</td>\n",
       "      <td>Académie Royale des Beaux-Arts</td>\n",
       "      <td>The Royal Academy of Fine Arts of Brussels (Fr...</td>\n",
       "    </tr>\n",
       "  </tbody>\n",
       "</table>\n",
       "</div>"
      ],
      "text/plain": [
       "   id                                name  \\\n",
       "0   0  Royal Academy of Fine Arts Antwerp   \n",
       "1   1      Académie Royale des Beaux-Arts   \n",
       "\n",
       "                                         description  \n",
       "0  The Royal Academy of Fine Arts Antwerp (Dutch:...  \n",
       "1  The Royal Academy of Fine Arts of Brussels (Fr...  "
      ]
     },
     "execution_count": 73,
     "metadata": {},
     "output_type": "execute_result"
    }
   ],
   "source": [
    "academy = pd.read_parquet('https://kuleuven-datathon-2023.s3.eu-central-1.amazonaws.com/data/Academy.parquet.gzip')\n",
    "academy.head(2)"
   ]
  },
  {
   "cell_type": "code",
   "execution_count": 74,
   "id": "9f6b7734",
   "metadata": {},
   "outputs": [
    {
     "data": {
      "text/html": [
       "(No data)"
      ],
      "text/plain": [
       "(No data)"
      ]
     },
     "execution_count": 74,
     "metadata": {},
     "output_type": "execute_result"
    }
   ],
   "source": [
    "graph.run(\n",
    "\"\"\"\n",
    "LOAD CSV WITH HEADERS FROM \"https://kuleuven-datathon-2023.s3.eu-central-1.amazonaws.com/data/Academy.csv\" AS csvLine\n",
    "MERGE (a:Academy {\n",
    "    id: toInteger(csvLine.id), \n",
    "    name: csvLine.name,\n",
    "    description: csvLine.description\n",
    "    })\n",
    "\"\"\"\n",
    ")"
   ]
  },
  {
   "cell_type": "code",
   "execution_count": 75,
   "id": "c01479c1",
   "metadata": {},
   "outputs": [
    {
     "data": {
      "text/html": [
       "(No data)"
      ],
      "text/plain": [
       "(No data)"
      ]
     },
     "execution_count": 75,
     "metadata": {},
     "output_type": "execute_result"
    }
   ],
   "source": [
    "graph.run('CREATE INDEX academy FOR (n:Academy) ON (n.id)')"
   ]
  },
  {
   "cell_type": "code",
   "execution_count": 76,
   "id": "4e020149",
   "metadata": {},
   "outputs": [
    {
     "data": {
      "text/html": [
       "<div>\n",
       "<style scoped>\n",
       "    .dataframe tbody tr th:only-of-type {\n",
       "        vertical-align: middle;\n",
       "    }\n",
       "\n",
       "    .dataframe tbody tr th {\n",
       "        vertical-align: top;\n",
       "    }\n",
       "\n",
       "    .dataframe thead th {\n",
       "        text-align: right;\n",
       "    }\n",
       "</style>\n",
       "<table border=\"1\" class=\"dataframe\">\n",
       "  <thead>\n",
       "    <tr style=\"text-align: right;\">\n",
       "      <th></th>\n",
       "      <th>id</th>\n",
       "      <th>name</th>\n",
       "      <th>description</th>\n",
       "    </tr>\n",
       "  </thead>\n",
       "  <tbody>\n",
       "    <tr>\n",
       "      <th>0</th>\n",
       "      <td>0</td>\n",
       "      <td>Oil on canvas</td>\n",
       "      <td>Oil painting is the process of painting with p...</td>\n",
       "    </tr>\n",
       "    <tr>\n",
       "      <th>1</th>\n",
       "      <td>1</td>\n",
       "      <td>Oil on panel</td>\n",
       "      <td>Oil painting is the process of painting with p...</td>\n",
       "    </tr>\n",
       "  </tbody>\n",
       "</table>\n",
       "</div>"
      ],
      "text/plain": [
       "   id           name                                        description\n",
       "0   0  Oil on canvas  Oil painting is the process of painting with p...\n",
       "1   1   Oil on panel  Oil painting is the process of painting with p..."
      ]
     },
     "execution_count": 76,
     "metadata": {},
     "output_type": "execute_result"
    }
   ],
   "source": [
    "medium = pd.read_parquet('https://kuleuven-datathon-2023.s3.eu-central-1.amazonaws.com/data/Medium.parquet.gzip')\n",
    "medium.head(2)"
   ]
  },
  {
   "cell_type": "code",
   "execution_count": 77,
   "id": "8679c20f",
   "metadata": {},
   "outputs": [
    {
     "data": {
      "text/html": [
       "(No data)"
      ],
      "text/plain": [
       "(No data)"
      ]
     },
     "execution_count": 77,
     "metadata": {},
     "output_type": "execute_result"
    }
   ],
   "source": [
    "graph.run(\n",
    "\"\"\"\n",
    "LOAD CSV WITH HEADERS FROM \"https://kuleuven-datathon-2023.s3.eu-central-1.amazonaws.com/data/Medium.csv\" AS csvLine\n",
    "MERGE (m:Medium {\n",
    "    id: toInteger(csvLine.id), \n",
    "    name: csvLine.name,\n",
    "    description: csvLine.description\n",
    "    })\n",
    "\"\"\"\n",
    ")"
   ]
  },
  {
   "cell_type": "code",
   "execution_count": 78,
   "id": "4437d969",
   "metadata": {},
   "outputs": [
    {
     "data": {
      "text/html": [
       "(No data)"
      ],
      "text/plain": [
       "(No data)"
      ]
     },
     "execution_count": 78,
     "metadata": {},
     "output_type": "execute_result"
    }
   ],
   "source": [
    "graph.run('CREATE INDEX medium FOR (n:Medium) ON (n.id)')"
   ]
  },
  {
   "cell_type": "code",
   "execution_count": 79,
   "id": "dddc2072",
   "metadata": {},
   "outputs": [
    {
     "data": {
      "text/html": [
       "<div>\n",
       "<style scoped>\n",
       "    .dataframe tbody tr th:only-of-type {\n",
       "        vertical-align: middle;\n",
       "    }\n",
       "\n",
       "    .dataframe tbody tr th {\n",
       "        vertical-align: top;\n",
       "    }\n",
       "\n",
       "    .dataframe thead th {\n",
       "        text-align: right;\n",
       "    }\n",
       "</style>\n",
       "<table border=\"1\" class=\"dataframe\">\n",
       "  <thead>\n",
       "    <tr style=\"text-align: right;\">\n",
       "      <th></th>\n",
       "      <th>id</th>\n",
       "      <th>name</th>\n",
       "      <th>parent</th>\n",
       "    </tr>\n",
       "  </thead>\n",
       "  <tbody>\n",
       "    <tr>\n",
       "      <th>0</th>\n",
       "      <td>0</td>\n",
       "      <td>Zundert</td>\n",
       "      <td>213.0</td>\n",
       "    </tr>\n",
       "    <tr>\n",
       "      <th>1</th>\n",
       "      <td>1</td>\n",
       "      <td>Limoges</td>\n",
       "      <td>214.0</td>\n",
       "    </tr>\n",
       "  </tbody>\n",
       "</table>\n",
       "</div>"
      ],
      "text/plain": [
       "   id     name  parent\n",
       "0   0  Zundert   213.0\n",
       "1   1  Limoges   214.0"
      ]
     },
     "execution_count": 79,
     "metadata": {},
     "output_type": "execute_result"
    }
   ],
   "source": [
    "places = pd.read_parquet('https://kuleuven-datathon-2023.s3.eu-central-1.amazonaws.com/data/Places.parquet.gzip')\n",
    "places.head(2)"
   ]
  },
  {
   "cell_type": "code",
   "execution_count": 80,
   "id": "9b37d92a",
   "metadata": {},
   "outputs": [
    {
     "data": {
      "text/html": [
       "(No data)"
      ],
      "text/plain": [
       "(No data)"
      ]
     },
     "execution_count": 80,
     "metadata": {},
     "output_type": "execute_result"
    }
   ],
   "source": [
    "graph.run(\n",
    "\"\"\"\n",
    "LOAD CSV WITH HEADERS FROM \"https://kuleuven-datathon-2023.s3.eu-central-1.amazonaws.com/data/Places.csv\" AS csvLine\n",
    "MERGE (m:Place {\n",
    "    id: toInteger(csvLine.id), \n",
    "    name: csvLine.name\n",
    "    })\n",
    "\"\"\"\n",
    ")"
   ]
  },
  {
   "cell_type": "code",
   "execution_count": 81,
   "id": "377efe51",
   "metadata": {},
   "outputs": [
    {
     "data": {
      "text/html": [
       "(No data)"
      ],
      "text/plain": [
       "(No data)"
      ]
     },
     "execution_count": 81,
     "metadata": {},
     "output_type": "execute_result"
    }
   ],
   "source": [
    "graph.run('CREATE INDEX place FOR (n:Place) ON (n.id)')"
   ]
  },
  {
   "cell_type": "code",
   "execution_count": 82,
   "id": "6804a888",
   "metadata": {},
   "outputs": [
    {
     "data": {
      "text/html": [
       "(No data)"
      ],
      "text/plain": [
       "(No data)"
      ]
     },
     "execution_count": 82,
     "metadata": {},
     "output_type": "execute_result"
    }
   ],
   "source": [
    "graph.run(\n",
    "\"\"\"\n",
    "LOAD CSV WITH HEADERS FROM \"https://kuleuven-datathon-2023.s3.eu-central-1.amazonaws.com/data/Places.csv\" AS csvLine\n",
    "MATCH (p1:Place {id: toInteger(csvLine.id)}), (p2:Place {id: toInteger(csvLine.parent)})\n",
    "MERGE (p1) -[r:LOCATED_IN]-> (p2)\n",
    "\"\"\"\n",
    ")"
   ]
  },
  {
   "cell_type": "code",
   "execution_count": 83,
   "id": "37bc3c35",
   "metadata": {},
   "outputs": [
    {
     "data": {
      "text/html": [
       "<div>\n",
       "<style scoped>\n",
       "    .dataframe tbody tr th:only-of-type {\n",
       "        vertical-align: middle;\n",
       "    }\n",
       "\n",
       "    .dataframe tbody tr th {\n",
       "        vertical-align: top;\n",
       "    }\n",
       "\n",
       "    .dataframe thead th {\n",
       "        text-align: right;\n",
       "    }\n",
       "</style>\n",
       "<table border=\"1\" class=\"dataframe\">\n",
       "  <thead>\n",
       "    <tr style=\"text-align: right;\">\n",
       "      <th></th>\n",
       "      <th>id</th>\n",
       "      <th>url</th>\n",
       "      <th>source_url</th>\n",
       "      <th>caption</th>\n",
       "    </tr>\n",
       "  </thead>\n",
       "  <tbody>\n",
       "    <tr>\n",
       "      <th>0</th>\n",
       "      <td>0</td>\n",
       "      <td>https://kuleuven-datathon-2023.s3.eu-central-1...</td>\n",
       "      <td>http://upload.wikimedia.org/wikipedia/commons/...</td>\n",
       "      <td>Self-Portrait, 1887, Art Institute of Chicago</td>\n",
       "    </tr>\n",
       "    <tr>\n",
       "      <th>1</th>\n",
       "      <td>1</td>\n",
       "      <td>https://kuleuven-datathon-2023.s3.eu-central-1...</td>\n",
       "      <td>http://upload.wikimedia.org/wikipedia/commons/...</td>\n",
       "      <td>None</td>\n",
       "    </tr>\n",
       "  </tbody>\n",
       "</table>\n",
       "</div>"
      ],
      "text/plain": [
       "   id                                                url  \\\n",
       "0   0  https://kuleuven-datathon-2023.s3.eu-central-1...   \n",
       "1   1  https://kuleuven-datathon-2023.s3.eu-central-1...   \n",
       "\n",
       "                                          source_url  \\\n",
       "0  http://upload.wikimedia.org/wikipedia/commons/...   \n",
       "1  http://upload.wikimedia.org/wikipedia/commons/...   \n",
       "\n",
       "                                         caption  \n",
       "0  Self-Portrait, 1887, Art Institute of Chicago  \n",
       "1                                           None  "
      ]
     },
     "execution_count": 83,
     "metadata": {},
     "output_type": "execute_result"
    }
   ],
   "source": [
    "pictures = pd.read_parquet('https://kuleuven-datathon-2023.s3.eu-central-1.amazonaws.com/data/ArtistPicture.parquet.gzip')\n",
    "pictures.head(2)"
   ]
  },
  {
   "cell_type": "code",
   "execution_count": 84,
   "id": "e483a881",
   "metadata": {},
   "outputs": [
    {
     "data": {
      "text/html": [
       "(No data)"
      ],
      "text/plain": [
       "(No data)"
      ]
     },
     "execution_count": 84,
     "metadata": {},
     "output_type": "execute_result"
    }
   ],
   "source": [
    "graph.run(\n",
    "\"\"\"\n",
    "LOAD CSV WITH HEADERS FROM \"https://kuleuven-datathon-2023.s3.eu-central-1.amazonaws.com/data/ArtistPicture.csv\" AS csvLine\n",
    "CREATE (m:Picture {\n",
    "    id: toInteger(csvLine.id), \n",
    "    url: csvLine.url,\n",
    "    source_url: csvLine.source_url,\n",
    "    caption: csvLine.caption\n",
    "    })\n",
    "\"\"\"\n",
    ")"
   ]
  },
  {
   "cell_type": "code",
   "execution_count": 85,
   "id": "e2e47a42",
   "metadata": {},
   "outputs": [
    {
     "data": {
      "text/html": [
       "(No data)"
      ],
      "text/plain": [
       "(No data)"
      ]
     },
     "execution_count": 85,
     "metadata": {},
     "output_type": "execute_result"
    }
   ],
   "source": [
    "graph.run('CREATE INDEX picture FOR (n:Picture) ON (n.id)')"
   ]
  },
  {
   "cell_type": "code",
   "execution_count": 86,
   "id": "e795dbcd",
   "metadata": {},
   "outputs": [
    {
     "data": {
      "text/html": [
       "(No data)"
      ],
      "text/plain": [
       "(No data)"
      ]
     },
     "execution_count": 86,
     "metadata": {},
     "output_type": "execute_result"
    }
   ],
   "source": [
    "graph.run(\n",
    "\"\"\"\n",
    "LOAD CSV WITH HEADERS FROM \"https://kuleuven-datathon-2023.s3.eu-central-1.amazonaws.com/data/Generated.csv\" AS csvLine\n",
    "CREATE (m:Generated {\n",
    "    url: csvLine.url\n",
    "    })\n",
    "\"\"\"\n",
    ")"
   ]
  },
  {
   "cell_type": "code",
   "execution_count": 87,
   "id": "481e3c55",
   "metadata": {},
   "outputs": [
    {
     "data": {
      "text/html": [
       "<div>\n",
       "<style scoped>\n",
       "    .dataframe tbody tr th:only-of-type {\n",
       "        vertical-align: middle;\n",
       "    }\n",
       "\n",
       "    .dataframe tbody tr th {\n",
       "        vertical-align: top;\n",
       "    }\n",
       "\n",
       "    .dataframe thead th {\n",
       "        text-align: right;\n",
       "    }\n",
       "</style>\n",
       "<table border=\"1\" class=\"dataframe\">\n",
       "  <thead>\n",
       "    <tr style=\"text-align: right;\">\n",
       "      <th></th>\n",
       "      <th>id</th>\n",
       "      <th>name</th>\n",
       "      <th>url</th>\n",
       "      <th>image_url</th>\n",
       "      <th>artist</th>\n",
       "      <th>rating</th>\n",
       "      <th>summary</th>\n",
       "      <th>year</th>\n",
       "      <th>medium</th>\n",
       "      <th>location</th>\n",
       "    </tr>\n",
       "  </thead>\n",
       "  <tbody>\n",
       "    <tr>\n",
       "      <th>0</th>\n",
       "      <td>0</td>\n",
       "      <td>Cafe Terrace on the Place du Forum</td>\n",
       "      <td>http://wikigallery.org/wiki/painting_133032/Vi...</td>\n",
       "      <td>https://kuleuven-datathon-2023.s3.eu-central-1...</td>\n",
       "      <td>0</td>\n",
       "      <td>8.0</td>\n",
       "      <td>Café Terrace at Night is an 1888 oil painting ...</td>\n",
       "      <td>1888.0</td>\n",
       "      <td>0.0</td>\n",
       "      <td>Kröller-Müller Museum</td>\n",
       "    </tr>\n",
       "    <tr>\n",
       "      <th>1</th>\n",
       "      <td>1</td>\n",
       "      <td>Starry Night</td>\n",
       "      <td>http://wikigallery.org/wiki/painting_9698/Vinc...</td>\n",
       "      <td>https://kuleuven-datathon-2023.s3.eu-central-1...</td>\n",
       "      <td>0</td>\n",
       "      <td>9.0</td>\n",
       "      <td>None</td>\n",
       "      <td>NaN</td>\n",
       "      <td>NaN</td>\n",
       "      <td>None</td>\n",
       "    </tr>\n",
       "  </tbody>\n",
       "</table>\n",
       "</div>"
      ],
      "text/plain": [
       "   id                                name  \\\n",
       "0   0  Cafe Terrace on the Place du Forum   \n",
       "1   1                        Starry Night   \n",
       "\n",
       "                                                 url  \\\n",
       "0  http://wikigallery.org/wiki/painting_133032/Vi...   \n",
       "1  http://wikigallery.org/wiki/painting_9698/Vinc...   \n",
       "\n",
       "                                           image_url  artist  rating  \\\n",
       "0  https://kuleuven-datathon-2023.s3.eu-central-1...       0     8.0   \n",
       "1  https://kuleuven-datathon-2023.s3.eu-central-1...       0     9.0   \n",
       "\n",
       "                                             summary    year  medium  \\\n",
       "0  Café Terrace at Night is an 1888 oil painting ...  1888.0     0.0   \n",
       "1                                               None     NaN     NaN   \n",
       "\n",
       "                location  \n",
       "0  Kröller-Müller Museum  \n",
       "1                   None  "
      ]
     },
     "execution_count": 87,
     "metadata": {},
     "output_type": "execute_result"
    }
   ],
   "source": [
    "artworks = pd.read_parquet('https://kuleuven-datathon-2023.s3.eu-central-1.amazonaws.com/data/Artwork.parquet.gzip')\n",
    "artworks.head(2)"
   ]
  },
  {
   "cell_type": "code",
   "execution_count": 88,
   "id": "7d88e105",
   "metadata": {},
   "outputs": [
    {
     "data": {
      "text/html": [
       "(No data)"
      ],
      "text/plain": [
       "(No data)"
      ]
     },
     "execution_count": 88,
     "metadata": {},
     "output_type": "execute_result"
    }
   ],
   "source": [
    "graph.run(\n",
    "\"\"\"\n",
    "LOAD CSV WITH HEADERS FROM \"https://kuleuven-datathon-2023.s3.eu-central-1.amazonaws.com/data/Artwork.csv\" AS csvLine\n",
    "CREATE (m:Artwork {\n",
    "    id: toInteger(csvLine.id), \n",
    "    name: csvLine.name,\n",
    "    image_url: csvLine.image_url,\n",
    "    rating: toInteger(csvLine.rating),\n",
    "    summary: csvLine.summary,\n",
    "    year: toIntegerOrNull(csvLine.year),\n",
    "    location: csvLine.location\n",
    "    })\n",
    "\"\"\"\n",
    ")"
   ]
  },
  {
   "cell_type": "code",
   "execution_count": 89,
   "id": "6f99669f",
   "metadata": {},
   "outputs": [
    {
     "data": {
      "text/html": [
       "(No data)"
      ],
      "text/plain": [
       "(No data)"
      ]
     },
     "execution_count": 89,
     "metadata": {},
     "output_type": "execute_result"
    }
   ],
   "source": [
    "graph.run('CREATE INDEX artwork FOR (n:Artwork) ON (n.id)')"
   ]
  },
  {
   "cell_type": "code",
   "execution_count": 90,
   "id": "b71ce710",
   "metadata": {},
   "outputs": [
    {
     "data": {
      "text/html": [
       "(No data)"
      ],
      "text/plain": [
       "(No data)"
      ]
     },
     "execution_count": 90,
     "metadata": {},
     "output_type": "execute_result"
    }
   ],
   "source": [
    "graph.run(\n",
    "\"\"\"\n",
    "LOAD CSV WITH HEADERS FROM \"https://kuleuven-datathon-2023.s3.eu-central-1.amazonaws.com/data/Artwork.csv\" AS csvLine\n",
    "MATCH (a:Artwork {id: toInteger(csvLine.id)}), (m:Medium {id: toIntegerOrNull(csvLine.medium)})\n",
    "MERGE (a) -[r:USES]-> (m)\n",
    "\"\"\"\n",
    ")"
   ]
  },
  {
   "cell_type": "code",
   "execution_count": 91,
   "id": "f0aaf187",
   "metadata": {},
   "outputs": [
    {
     "data": {
      "text/html": [
       "<div>\n",
       "<style scoped>\n",
       "    .dataframe tbody tr th:only-of-type {\n",
       "        vertical-align: middle;\n",
       "    }\n",
       "\n",
       "    .dataframe tbody tr th {\n",
       "        vertical-align: top;\n",
       "    }\n",
       "\n",
       "    .dataframe thead th {\n",
       "        text-align: right;\n",
       "    }\n",
       "</style>\n",
       "<table border=\"1\" class=\"dataframe\">\n",
       "  <thead>\n",
       "    <tr style=\"text-align: right;\">\n",
       "      <th></th>\n",
       "      <th>source_artwork</th>\n",
       "      <th>url</th>\n",
       "    </tr>\n",
       "  </thead>\n",
       "  <tbody>\n",
       "    <tr>\n",
       "      <th>0</th>\n",
       "      <td>3148</td>\n",
       "      <td>https://kuleuven-datathon-2023.s3.eu-central-1...</td>\n",
       "    </tr>\n",
       "    <tr>\n",
       "      <th>1</th>\n",
       "      <td>1480</td>\n",
       "      <td>https://kuleuven-datathon-2023.s3.eu-central-1...</td>\n",
       "    </tr>\n",
       "  </tbody>\n",
       "</table>\n",
       "</div>"
      ],
      "text/plain": [
       "   source_artwork                                                url\n",
       "0            3148  https://kuleuven-datathon-2023.s3.eu-central-1...\n",
       "1            1480  https://kuleuven-datathon-2023.s3.eu-central-1..."
      ]
     },
     "execution_count": 91,
     "metadata": {},
     "output_type": "execute_result"
    }
   ],
   "source": [
    "generated = pd.read_parquet('https://kuleuven-datathon-2023.s3.eu-central-1.amazonaws.com/data/Generated.parquet.gzip')\n",
    "generated.head(2)"
   ]
  },
  {
   "cell_type": "code",
   "execution_count": 92,
   "id": "3d496502",
   "metadata": {},
   "outputs": [
    {
     "data": {
      "text/html": [
       "(No data)"
      ],
      "text/plain": [
       "(No data)"
      ]
     },
     "execution_count": 92,
     "metadata": {},
     "output_type": "execute_result"
    }
   ],
   "source": [
    "graph.run(\n",
    "\"\"\"\n",
    "LOAD CSV WITH HEADERS FROM \"https://kuleuven-datathon-2023.s3.eu-central-1.amazonaws.com/data/Generated.csv\" AS csvLine\n",
    "MATCH (a:Artwork {id: toInteger(csvLine.source_artwork)}), (g:Generated {url: csvLine.url})\n",
    "MERGE (g) -[r:BASED_ON]-> (a)\n",
    "\"\"\"\n",
    ")"
   ]
  },
  {
   "cell_type": "code",
   "execution_count": 93,
   "id": "e7756d8c",
   "metadata": {},
   "outputs": [
    {
     "data": {
      "text/html": [
       "(No data)"
      ],
      "text/plain": [
       "(No data)"
      ]
     },
     "execution_count": 93,
     "metadata": {},
     "output_type": "execute_result"
    }
   ],
   "source": [
    "graph.run(\n",
    "\"\"\"\n",
    "LOAD CSV WITH HEADERS FROM \"https://kuleuven-datathon-2023.s3.eu-central-1.amazonaws.com/data/Recommendation.csv\" AS csvLine\n",
    "MATCH (a:Artwork {id: toInteger(csvLine.artwork)}), (recommendation:Artwork {id: toInteger(csvLine.recommended)})\n",
    "MERGE (a) -[r:RECOMMENDS]-> (recommendation)\n",
    "\"\"\"\n",
    ")"
   ]
  },
  {
   "cell_type": "code",
   "execution_count": 94,
   "id": "8fd2869e",
   "metadata": {},
   "outputs": [
    {
     "data": {
      "text/html": [
       "<div>\n",
       "<style scoped>\n",
       "    .dataframe tbody tr th:only-of-type {\n",
       "        vertical-align: middle;\n",
       "    }\n",
       "\n",
       "    .dataframe tbody tr th {\n",
       "        vertical-align: top;\n",
       "    }\n",
       "\n",
       "    .dataframe thead th {\n",
       "        text-align: right;\n",
       "    }\n",
       "</style>\n",
       "<table border=\"1\" class=\"dataframe\">\n",
       "  <thead>\n",
       "    <tr style=\"text-align: right;\">\n",
       "      <th></th>\n",
       "      <th>id</th>\n",
       "      <th>name</th>\n",
       "      <th>url</th>\n",
       "      <th>summary</th>\n",
       "      <th>picture</th>\n",
       "      <th>birthplace</th>\n",
       "      <th>deathplace</th>\n",
       "      <th>birthdate</th>\n",
       "      <th>deathdate</th>\n",
       "      <th>cause_of_death</th>\n",
       "    </tr>\n",
       "  </thead>\n",
       "  <tbody>\n",
       "    <tr>\n",
       "      <th>0</th>\n",
       "      <td>0</td>\n",
       "      <td>Vincent Van Gogh</td>\n",
       "      <td>http://wikigallery.org/wiki/artist36933/Vincen...</td>\n",
       "      <td>Vincent Willem van Gogh (Dutch: [ˈvɪnsɛnt ˈʋɪl...</td>\n",
       "      <td>0.0</td>\n",
       "      <td>0.0</td>\n",
       "      <td>342.0</td>\n",
       "      <td>1853-03-30</td>\n",
       "      <td>1890-07-29</td>\n",
       "      <td>Gunshot wound</td>\n",
       "    </tr>\n",
       "    <tr>\n",
       "      <th>1</th>\n",
       "      <td>1</td>\n",
       "      <td>Pierre Auguste Renoir</td>\n",
       "      <td>http://wikigallery.org/wiki/artist39254/Pierre...</td>\n",
       "      <td>Pierre-Auguste Renoir (French: [pjɛʁ oɡyst ʁən...</td>\n",
       "      <td>1.0</td>\n",
       "      <td>1.0</td>\n",
       "      <td>343.0</td>\n",
       "      <td>1841-02-25</td>\n",
       "      <td>1919-12-03</td>\n",
       "      <td>&lt;NA&gt;</td>\n",
       "    </tr>\n",
       "  </tbody>\n",
       "</table>\n",
       "</div>"
      ],
      "text/plain": [
       "   id                   name  \\\n",
       "0   0       Vincent Van Gogh   \n",
       "1   1  Pierre Auguste Renoir   \n",
       "\n",
       "                                                 url  \\\n",
       "0  http://wikigallery.org/wiki/artist36933/Vincen...   \n",
       "1  http://wikigallery.org/wiki/artist39254/Pierre...   \n",
       "\n",
       "                                             summary  picture  birthplace  \\\n",
       "0  Vincent Willem van Gogh (Dutch: [ˈvɪnsɛnt ˈʋɪl...      0.0         0.0   \n",
       "1  Pierre-Auguste Renoir (French: [pjɛʁ oɡyst ʁən...      1.0         1.0   \n",
       "\n",
       "   deathplace   birthdate   deathdate cause_of_death  \n",
       "0       342.0  1853-03-30  1890-07-29  Gunshot wound  \n",
       "1       343.0  1841-02-25  1919-12-03           <NA>  "
      ]
     },
     "execution_count": 94,
     "metadata": {},
     "output_type": "execute_result"
    }
   ],
   "source": [
    "artists = pd.read_parquet('https://kuleuven-datathon-2023.s3.eu-central-1.amazonaws.com/data/Artist.parquet.gzip')\n",
    "artists.fillna(pd.NA, inplace=True)\n",
    "artists.head(2)"
   ]
  },
  {
   "cell_type": "code",
   "execution_count": 95,
   "id": "bffeed06",
   "metadata": {},
   "outputs": [
    {
     "data": {
      "text/html": [
       "(No data)"
      ],
      "text/plain": [
       "(No data)"
      ]
     },
     "execution_count": 95,
     "metadata": {},
     "output_type": "execute_result"
    }
   ],
   "source": [
    "graph.run(\n",
    "\"\"\"\n",
    "LOAD CSV WITH HEADERS FROM \"https://kuleuven-datathon-2023.s3.eu-central-1.amazonaws.com/data/Artist.csv\" AS csvLine\n",
    "CREATE (m:Artist {\n",
    "    id: toInteger(csvLine.id), \n",
    "    name: csvLine.name,\n",
    "    url: csvLine.url,\n",
    "    summary: csvLine.summary\n",
    "    })\n",
    "\"\"\"\n",
    ")"
   ]
  },
  {
   "cell_type": "code",
   "execution_count": 96,
   "id": "be927808",
   "metadata": {},
   "outputs": [
    {
     "data": {
      "text/html": [
       "(No data)"
      ],
      "text/plain": [
       "(No data)"
      ]
     },
     "execution_count": 96,
     "metadata": {},
     "output_type": "execute_result"
    }
   ],
   "source": [
    "graph.run('CREATE INDEX artist FOR (n:Artist) ON (n.id)')"
   ]
  },
  {
   "cell_type": "code",
   "execution_count": 97,
   "id": "976f13c0",
   "metadata": {},
   "outputs": [
    {
     "data": {
      "text/html": [
       "(No data)"
      ],
      "text/plain": [
       "(No data)"
      ]
     },
     "execution_count": 97,
     "metadata": {},
     "output_type": "execute_result"
    }
   ],
   "source": [
    "graph.run(\n",
    "\"\"\"\n",
    "LOAD CSV WITH HEADERS FROM \"https://kuleuven-datathon-2023.s3.eu-central-1.amazonaws.com/data/Artist.csv\" AS csvLine\n",
    "MATCH (a:Artist {id: toInteger(csvLine.id)}), (picture:Picture {id: toIntegerOrNull(csvLine.picture)})\n",
    "MERGE (a) -[r:IMAGE]-> (picture)\n",
    "\"\"\"\n",
    ")"
   ]
  },
  {
   "cell_type": "code",
   "execution_count": 98,
   "id": "fbcba429",
   "metadata": {},
   "outputs": [
    {
     "data": {
      "text/html": [
       "(No data)"
      ],
      "text/plain": [
       "(No data)"
      ]
     },
     "execution_count": 98,
     "metadata": {},
     "output_type": "execute_result"
    }
   ],
   "source": [
    "graph.run(\n",
    "\"\"\"\n",
    "LOAD CSV WITH HEADERS FROM \"https://kuleuven-datathon-2023.s3.eu-central-1.amazonaws.com/data/Artist.csv\" AS csvLine\n",
    "MATCH (a:Artist {id: toInteger(csvLine.id)}), (birthplace:Place {id: toIntegerOrNull(csvLine.birthplace)})\n",
    "MERGE (a) -[r:BORN_IN]-> (birthplace)\n",
    "\"\"\"\n",
    ")"
   ]
  },
  {
   "cell_type": "code",
   "execution_count": 99,
   "id": "67523a62",
   "metadata": {},
   "outputs": [
    {
     "data": {
      "text/html": [
       "(No data)"
      ],
      "text/plain": [
       "(No data)"
      ]
     },
     "execution_count": 99,
     "metadata": {},
     "output_type": "execute_result"
    }
   ],
   "source": [
    "graph.run(\n",
    "\"\"\"\n",
    "LOAD CSV WITH HEADERS FROM \"https://kuleuven-datathon-2023.s3.eu-central-1.amazonaws.com/data/Artist.csv\" AS csvLine\n",
    "MATCH (a:Artist {id: toInteger(csvLine.id)}), (deathplace:Place {id: toIntegerOrNull(csvLine.deathplace)})\n",
    "MERGE (a) -[r:DIED_IN]-> (deathplace)\n",
    "SET r.cause = csvLine.cause_of_death\n",
    "\"\"\"\n",
    ")"
   ]
  },
  {
   "cell_type": "code",
   "execution_count": 100,
   "id": "77c597ae",
   "metadata": {},
   "outputs": [
    {
     "data": {
      "text/html": [
       "<div>\n",
       "<style scoped>\n",
       "    .dataframe tbody tr th:only-of-type {\n",
       "        vertical-align: middle;\n",
       "    }\n",
       "\n",
       "    .dataframe tbody tr th {\n",
       "        vertical-align: top;\n",
       "    }\n",
       "\n",
       "    .dataframe thead th {\n",
       "        text-align: right;\n",
       "    }\n",
       "</style>\n",
       "<table border=\"1\" class=\"dataframe\">\n",
       "  <thead>\n",
       "    <tr style=\"text-align: right;\">\n",
       "      <th></th>\n",
       "      <th>student_id</th>\n",
       "      <th>teacher_id</th>\n",
       "    </tr>\n",
       "  </thead>\n",
       "  <tbody>\n",
       "    <tr>\n",
       "      <th>0</th>\n",
       "      <td>4.0</td>\n",
       "      <td>301.0</td>\n",
       "    </tr>\n",
       "    <tr>\n",
       "      <th>1</th>\n",
       "      <td>4.0</td>\n",
       "      <td>577.0</td>\n",
       "    </tr>\n",
       "    <tr>\n",
       "      <th>2</th>\n",
       "      <td>6.0</td>\n",
       "      <td>578.0</td>\n",
       "    </tr>\n",
       "    <tr>\n",
       "      <th>3</th>\n",
       "      <td>15.0</td>\n",
       "      <td>579.0</td>\n",
       "    </tr>\n",
       "    <tr>\n",
       "      <th>4</th>\n",
       "      <td>15.0</td>\n",
       "      <td>580.0</td>\n",
       "    </tr>\n",
       "  </tbody>\n",
       "</table>\n",
       "</div>"
      ],
      "text/plain": [
       "   student_id  teacher_id\n",
       "0         4.0       301.0\n",
       "1         4.0       577.0\n",
       "2         6.0       578.0\n",
       "3        15.0       579.0\n",
       "4        15.0       580.0"
      ]
     },
     "execution_count": 100,
     "metadata": {},
     "output_type": "execute_result"
    }
   ],
   "source": [
    "pd.read_csv('https://kuleuven-datathon-2023.s3.eu-central-1.amazonaws.com/data/Apprenticeship.csv').head()"
   ]
  },
  {
   "cell_type": "code",
   "execution_count": 101,
   "id": "8ae9b9ad",
   "metadata": {},
   "outputs": [
    {
     "data": {
      "text/html": [
       "(No data)"
      ],
      "text/plain": [
       "(No data)"
      ]
     },
     "execution_count": 101,
     "metadata": {},
     "output_type": "execute_result"
    }
   ],
   "source": [
    "graph.run(\n",
    "\"\"\"\n",
    "LOAD CSV WITH HEADERS FROM \"https://kuleuven-datathon-2023.s3.eu-central-1.amazonaws.com/data/Apprenticeship.csv\" AS csvLine\n",
    "MATCH (student:Artist {id: toInteger(csvLine.student_id)}), (teacher:Artist {id: toIntegerOrNull(csvLine.teacher_id)})\n",
    "MERGE (student) -[r:APPRENTICE_OF]-> (teacher)\n",
    "\"\"\"\n",
    ")"
   ]
  },
  {
   "cell_type": "code",
   "execution_count": 102,
   "id": "6bf5a0a2",
   "metadata": {},
   "outputs": [
    {
     "data": {
      "text/html": [
       "(No data)"
      ],
      "text/plain": [
       "(No data)"
      ]
     },
     "execution_count": 102,
     "metadata": {},
     "output_type": "execute_result"
    }
   ],
   "source": [
    "graph.run(\n",
    "\"\"\"\n",
    "LOAD CSV WITH HEADERS FROM \"https://kuleuven-datathon-2023.s3.eu-central-1.amazonaws.com/data/Artwork.csv\" AS csvLine\n",
    "MATCH (artwork:Artwork {id: toInteger(csvLine.id)}), (artist:Artist {id: toIntegerOrNull(csvLine.artist)})\n",
    "MERGE (artwork) -[r:MADE_BY]-> (artist)\n",
    "\"\"\"\n",
    ")"
   ]
  },
  {
   "cell_type": "code",
   "execution_count": 103,
   "id": "416ba13f",
   "metadata": {},
   "outputs": [
    {
     "data": {
      "text/html": [
       "(No data)"
      ],
      "text/plain": [
       "(No data)"
      ]
     },
     "execution_count": 103,
     "metadata": {},
     "output_type": "execute_result"
    }
   ],
   "source": [
    "graph.run(\n",
    "\"\"\"\n",
    "LOAD CSV WITH HEADERS FROM \"https://kuleuven-datathon-2023.s3.eu-central-1.amazonaws.com/data/ArtistSpecializations.csv\" AS csvLine\n",
    "MATCH (s:Specialization {id: toInteger(csvLine.specialty_id)}), (artist:Artist {id: toIntegerOrNull(csvLine.artist_id)})\n",
    "MERGE (s) <-[r:SPECIALIZED_IN]- (artist)\n",
    "\"\"\"\n",
    ")"
   ]
  },
  {
   "cell_type": "code",
   "execution_count": 104,
   "id": "d9a8ab84",
   "metadata": {},
   "outputs": [
    {
     "data": {
      "text/html": [
       "(No data)"
      ],
      "text/plain": [
       "(No data)"
      ]
     },
     "execution_count": 104,
     "metadata": {},
     "output_type": "execute_result"
    }
   ],
   "source": [
    "graph.run(\n",
    "\"\"\"\n",
    "LOAD CSV WITH HEADERS FROM \"https://kuleuven-datathon-2023.s3.eu-central-1.amazonaws.com/data/ArtistMovements.csv\" AS csvLine\n",
    "MATCH (s:Movement {id: toInteger(csvLine.movement_id)}), (artist:Artist {id: toIntegerOrNull(csvLine.artist_id)})\n",
    "MERGE (s) <-[r:BELONGS_TO]- (artist)\n",
    "\"\"\"\n",
    ")"
   ]
  },
  {
   "cell_type": "code",
   "execution_count": 105,
   "id": "97baeee7",
   "metadata": {},
   "outputs": [
    {
     "data": {
      "text/html": [
       "(No data)"
      ],
      "text/plain": [
       "(No data)"
      ]
     },
     "execution_count": 105,
     "metadata": {},
     "output_type": "execute_result"
    }
   ],
   "source": [
    "graph.run(\n",
    "\"\"\"\n",
    "LOAD CSV WITH HEADERS FROM \"https://kuleuven-datathon-2023.s3.eu-central-1.amazonaws.com/data/ArtistEducation.csv\" AS csvLine\n",
    "MATCH (s:Academy {id: toInteger(csvLine.academy_id)}), (artist:Artist {id: toIntegerOrNull(csvLine.artist_id)})\n",
    "MERGE (s) <-[r:EDUCATED_AT]- (artist)\n",
    "\"\"\"\n",
    ")"
   ]
  },
  {
   "cell_type": "code",
   "execution_count": 106,
   "id": "462b831e",
   "metadata": {},
   "outputs": [
    {
     "data": {
      "text/html": [
       "<table><tr><th>nodes</th><th>relationships</th></tr><tr><td style=\"text-align:left\">[(_-9:Artist {constraints: [], indexes: [&#039;id&#039;], name: &#039;Artist&#039;}), (_-1:Specialization {constraints: [], indexes: [&#039;id&#039;], name: &#039;Specialization&#039;}), (_-2:Movement {constraints: [], indexes: [&#039;id&#039;], name: &#039;Movement&#039;}), (_-7:Generated {constraints: [], indexes: [], name: &#039;Generated&#039;}), (_-8:Artwork {constraints: [], indexes: [&#039;id&#039;], name: &#039;Artwork&#039;}), (_-3:Academy {constraints: [], indexes: [&#039;id&#039;], name: &#039;Academy&#039;}), (_-4:Medium {constraints: [], indexes: [&#039;id&#039;], name: &#039;Medium&#039;}), (_-6:Picture {constraints: [], indexes: [&#039;id&#039;], name: &#039;Picture&#039;}), (_-5:Place {constraints: [], indexes: [&#039;id&#039;], name: &#039;Place&#039;})]</td><td style=\"text-align:left\">[(_-5)-[:LOCATED_IN {}]-&gt;(_-5), (_-8)-[:RECOMMENDS {}]-&gt;(_-8), (_-9)-[:SPECIALIZED_IN {}]-&gt;(_-1), (_-9)-[:IMAGE {}]-&gt;(_-6), (_-9)-[:EDUCATED_AT {}]-&gt;(_-3), (_-9)-[:DIED_IN {}]-&gt;(_-5), (_-9)-[:BELONGS_TO {}]-&gt;(_-2), (_-9)-[:APPRENTICE_OF {}]-&gt;(_-9), (_-8)-[:MADE_BY {}]-&gt;(_-9), (_-9)-[:BORN_IN {}]-&gt;(_-5), (_-7)-[:BASED_ON {}]-&gt;(_-8), (_-8)-[:USES {}]-&gt;(_-4)]</td></tr></table>"
      ],
      "text/plain": [
       " nodes                                                                                                                                                                                                                                                                                                                                                                                                                                                                                                                                                                                                                               | relationships                                                                                                                                                                                                                                                                                                                                                          \n",
       "-------------------------------------------------------------------------------------------------------------------------------------------------------------------------------------------------------------------------------------------------------------------------------------------------------------------------------------------------------------------------------------------------------------------------------------------------------------------------------------------------------------------------------------------------------------------------------------------------------------------------------------|------------------------------------------------------------------------------------------------------------------------------------------------------------------------------------------------------------------------------------------------------------------------------------------------------------------------------------------------------------------------\n",
       " [(_-9:Artist {constraints: [], indexes: ['id'], name: 'Artist'}), (_-1:Specialization {constraints: [], indexes: ['id'], name: 'Specialization'}), (_-2:Movement {constraints: [], indexes: ['id'], name: 'Movement'}), (_-7:Generated {constraints: [], indexes: [], name: 'Generated'}), (_-8:Artwork {constraints: [], indexes: ['id'], name: 'Artwork'}), (_-3:Academy {constraints: [], indexes: ['id'], name: 'Academy'}), (_-4:Medium {constraints: [], indexes: ['id'], name: 'Medium'}), (_-6:Picture {constraints: [], indexes: ['id'], name: 'Picture'}), (_-5:Place {constraints: [], indexes: ['id'], name: 'Place'})] | [(_-5)-[:LOCATED_IN {}]->(_-5), (_-8)-[:RECOMMENDS {}]->(_-8), (_-9)-[:SPECIALIZED_IN {}]->(_-1), (_-9)-[:IMAGE {}]->(_-6), (_-9)-[:EDUCATED_AT {}]->(_-3), (_-9)-[:DIED_IN {}]->(_-5), (_-9)-[:BELONGS_TO {}]->(_-2), (_-9)-[:APPRENTICE_OF {}]->(_-9), (_-8)-[:MADE_BY {}]->(_-9), (_-9)-[:BORN_IN {}]->(_-5), (_-7)-[:BASED_ON {}]->(_-8), (_-8)-[:USES {}]->(_-4)] "
      ]
     },
     "execution_count": 106,
     "metadata": {},
     "output_type": "execute_result"
    }
   ],
   "source": [
    "graph.run(\n",
    "    \"\"\"\n",
    "    CALL db.schema.visualization\n",
    "    \"\"\"\n",
    ")"
   ]
  },
  {
   "cell_type": "code",
   "execution_count": 109,
   "id": "fd49ce60",
   "metadata": {},
   "outputs": [
    {
     "data": {
      "text/html": [
       "<table><tr><th>AI_generated</th><th>Artwork</th></tr><tr><td style=\"text-align:left\">(_939:Generated {url: &#039;https://kuleuven-datathon-2023.s3.eu-central-1.amazonaws.com/generated/A painting of 6th Sokol Festival. 1912 in the style of Alphonse Maria Mucha.png&#039;})</td><td style=\"text-align:left\">6th Sokol Festival. 1912</td></tr><tr><td style=\"text-align:left\">(_940:Generated {url: &#039;https://kuleuven-datathon-2023.s3.eu-central-1.amazonaws.com/generated/A painting of A Back Road, c.1880s in the style of Childe Hassam.png&#039;})</td><td style=\"text-align:left\">A Back Road, c.1880s</td></tr><tr><td style=\"text-align:left\">(_941:Generated {url: &#039;https://kuleuven-datathon-2023.s3.eu-central-1.amazonaws.com/generated/A painting of A Backwater at Calcot Near Reading in the style of John Singer Sargent.png&#039;})</td><td style=\"text-align:left\">A Backwater at Calcot Near Reading</td></tr></table>"
      ],
      "text/plain": [
       " AI_generated                                                                                                                                                                              | Artwork                            \n",
       "-------------------------------------------------------------------------------------------------------------------------------------------------------------------------------------------|------------------------------------\n",
       " (_939:Generated {url: 'https://kuleuven-datathon-2023.s3.eu-central-1.amazonaws.com/generated/A painting of 6th Sokol Festival. 1912 in the style of Alphonse Maria Mucha.png'})          | 6th Sokol Festival. 1912           \n",
       " (_940:Generated {url: 'https://kuleuven-datathon-2023.s3.eu-central-1.amazonaws.com/generated/A painting of A Back Road, c.1880s in the style of Childe Hassam.png'})                     | A Back Road, c.1880s               \n",
       " (_941:Generated {url: 'https://kuleuven-datathon-2023.s3.eu-central-1.amazonaws.com/generated/A painting of A Backwater at Calcot Near Reading in the style of John Singer Sargent.png'}) | A Backwater at Calcot Near Reading "
      ]
     },
     "execution_count": 109,
     "metadata": {},
     "output_type": "execute_result"
    }
   ],
   "source": [
    "graph.run(\n",
    "    \"\"\"\n",
    "MATCH (g:Generated)-[b:BASED_ON]->(a:Artwork)\n",
    "RETURN g as AI_generated, a.name as Artwork\n",
    "LIMIT 3 \n",
    "    \"\"\"\n",
    ")"
   ]
  },
  {
   "cell_type": "code",
   "execution_count": 111,
   "id": "67708828",
   "metadata": {},
   "outputs": [
    {
     "data": {
      "text/html": [
       "<table><tr><th>Artist</th><th>nbr_works</th></tr><tr><td style=\"text-align:left\">Pierre Auguste Renoir</td><td style=\"text-align:right\">25</td></tr><tr><td style=\"text-align:left\">Claude Oscar Monet</td><td style=\"text-align:right\">25</td></tr><tr><td style=\"text-align:left\">Fernando Botero</td><td style=\"text-align:right\">25</td></tr></table>"
      ],
      "text/plain": [
       " Artist                | nbr_works \n",
       "-----------------------|-----------\n",
       " Pierre Auguste Renoir |        25 \n",
       " Claude Oscar Monet    |        25 \n",
       " Fernando Botero       |        25 "
      ]
     },
     "execution_count": 111,
     "metadata": {},
     "output_type": "execute_result"
    }
   ],
   "source": [
    "graph.run(\n",
    "    \"\"\"\n",
    "MATCH (g:Generated)-[b:BASED_ON]->(a:Artwork)-[m:MADE_BY]->(ar:Artist)\n",
    "WHERE ar = ar\n",
    "RETURN ar.name as Artist, count(ar) as nbr_works \n",
    "ORDER BY nbr_works desc\n",
    "LIMIT 3   \n",
    "    \"\"\"\n",
    ")"
   ]
  },
  {
   "cell_type": "code",
   "execution_count": 110,
   "id": "b9e5f10a",
   "metadata": {},
   "outputs": [
    {
     "data": {
      "text/html": [
       "<table><tr><th>style</th><th>nbr_artists</th></tr><tr><td style=\"text-align:left\">Baroque</td><td style=\"text-align:right\">34</td></tr><tr><td style=\"text-align:left\">Renaissance</td><td style=\"text-align:right\">23</td></tr><tr><td style=\"text-align:left\">Realism</td><td style=\"text-align:right\">19</td></tr></table>"
      ],
      "text/plain": [
       " style       | nbr_artists \n",
       "-------------|-------------\n",
       " Baroque     |          34 \n",
       " Renaissance |          23 \n",
       " Realism     |          19 "
      ]
     },
     "execution_count": 110,
     "metadata": {},
     "output_type": "execute_result"
    }
   ],
   "source": [
    "graph.run(\n",
    "    \"\"\"\n",
    "MATCH (ar:Artist)-[b:BELONGS_TO]->(m:Movement)\n",
    "RETURN m.name as style, count(ar) as nbr_artists\n",
    "ORDER BY nbr_artists desc\n",
    "LIMIT 3  \n",
    "    \"\"\"\n",
    ")\n"
   ]
  },
  {
   "cell_type": "code",
   "execution_count": 112,
   "id": "aa1c010b",
   "metadata": {},
   "outputs": [
    {
     "ename": "ClientError",
     "evalue": "[Procedure.ProcedureCallFailed] Failed to invoke procedure `gds.graph.project`: Caused by: java.lang.IllegalArgumentException: A graph with name 'Artist' already exists.",
     "output_type": "error",
     "traceback": [
      "\u001b[1;31m---------------------------------------------------------------------------\u001b[0m",
      "\u001b[1;31mClientError\u001b[0m                               Traceback (most recent call last)",
      "\u001b[1;32m~\\AppData\\Local\\Temp\\ipykernel_40816\\480472434.py\u001b[0m in \u001b[0;36m<module>\u001b[1;34m\u001b[0m\n\u001b[1;32m----> 1\u001b[1;33m graph.run(\n\u001b[0m\u001b[0;32m      2\u001b[0m     \"\"\"\n\u001b[0;32m      3\u001b[0m     CALL gds.graph.project(\n\u001b[0;32m      4\u001b[0m    \u001b[1;34m'Artist'\u001b[0m\u001b[1;33m,\u001b[0m\u001b[1;33m\u001b[0m\u001b[1;33m\u001b[0m\u001b[0m\n\u001b[0;32m      5\u001b[0m    \u001b[1;34m'Artist'\u001b[0m\u001b[1;33m,\u001b[0m\u001b[1;33m\u001b[0m\u001b[1;33m\u001b[0m\u001b[0m\n",
      "\u001b[1;32m~\\anaconda3\\lib\\site-packages\\py2neo\\database.py\u001b[0m in \u001b[0;36mrun\u001b[1;34m(self, cypher, parameters, **kwparameters)\u001b[0m\n\u001b[0;32m    403\u001b[0m         \u001b[1;33m:\u001b[0m\u001b[1;32mreturn\u001b[0m\u001b[1;33m:\u001b[0m\u001b[1;33m\u001b[0m\u001b[1;33m\u001b[0m\u001b[0m\n\u001b[0;32m    404\u001b[0m         \"\"\"\n\u001b[1;32m--> 405\u001b[1;33m         \u001b[1;32mreturn\u001b[0m \u001b[0mself\u001b[0m\u001b[1;33m.\u001b[0m\u001b[0mauto\u001b[0m\u001b[1;33m(\u001b[0m\u001b[1;33m)\u001b[0m\u001b[1;33m.\u001b[0m\u001b[0mrun\u001b[0m\u001b[1;33m(\u001b[0m\u001b[0mcypher\u001b[0m\u001b[1;33m,\u001b[0m \u001b[0mparameters\u001b[0m\u001b[1;33m,\u001b[0m \u001b[1;33m**\u001b[0m\u001b[0mkwparameters\u001b[0m\u001b[1;33m)\u001b[0m\u001b[1;33m\u001b[0m\u001b[1;33m\u001b[0m\u001b[0m\n\u001b[0m\u001b[0;32m    406\u001b[0m \u001b[1;33m\u001b[0m\u001b[0m\n\u001b[0;32m    407\u001b[0m     \u001b[1;32mdef\u001b[0m \u001b[0mevaluate\u001b[0m\u001b[1;33m(\u001b[0m\u001b[0mself\u001b[0m\u001b[1;33m,\u001b[0m \u001b[0mcypher\u001b[0m\u001b[1;33m,\u001b[0m \u001b[0mparameters\u001b[0m\u001b[1;33m=\u001b[0m\u001b[1;32mNone\u001b[0m\u001b[1;33m,\u001b[0m \u001b[1;33m**\u001b[0m\u001b[0mkwparameters\u001b[0m\u001b[1;33m)\u001b[0m\u001b[1;33m:\u001b[0m\u001b[1;33m\u001b[0m\u001b[1;33m\u001b[0m\u001b[0m\n",
      "\u001b[1;32m~\\anaconda3\\lib\\site-packages\\py2neo\\database.py\u001b[0m in \u001b[0;36mrun\u001b[1;34m(self, cypher, parameters, **kwparameters)\u001b[0m\n\u001b[0;32m    990\u001b[0m                                                   \u001b[0mgraph_name\u001b[0m\u001b[1;33m=\u001b[0m\u001b[0mself\u001b[0m\u001b[1;33m.\u001b[0m\u001b[0mgraph\u001b[0m\u001b[1;33m.\u001b[0m\u001b[0mname\u001b[0m\u001b[1;33m,\u001b[0m\u001b[1;33m\u001b[0m\u001b[1;33m\u001b[0m\u001b[0m\n\u001b[0;32m    991\u001b[0m                                                   readonly=self.readonly)\n\u001b[1;32m--> 992\u001b[1;33m             \u001b[0mself\u001b[0m\u001b[1;33m.\u001b[0m\u001b[0m_connector\u001b[0m\u001b[1;33m.\u001b[0m\u001b[0mpull\u001b[0m\u001b[1;33m(\u001b[0m\u001b[0mresult\u001b[0m\u001b[1;33m,\u001b[0m \u001b[1;33m-\u001b[0m\u001b[1;36m1\u001b[0m\u001b[1;33m)\u001b[0m\u001b[1;33m\u001b[0m\u001b[1;33m\u001b[0m\u001b[0m\n\u001b[0m\u001b[0;32m    993\u001b[0m             \u001b[1;32mreturn\u001b[0m \u001b[0mCursor\u001b[0m\u001b[1;33m(\u001b[0m\u001b[0mresult\u001b[0m\u001b[1;33m,\u001b[0m \u001b[0mhydrant\u001b[0m\u001b[1;33m)\u001b[0m\u001b[1;33m\u001b[0m\u001b[1;33m\u001b[0m\u001b[0m\n\u001b[0;32m    994\u001b[0m         \u001b[1;32mfinally\u001b[0m\u001b[1;33m:\u001b[0m\u001b[1;33m\u001b[0m\u001b[1;33m\u001b[0m\u001b[0m\n",
      "\u001b[1;32m~\\anaconda3\\lib\\site-packages\\py2neo\\client\\__init__.py\u001b[0m in \u001b[0;36mpull\u001b[1;34m(self, result, n)\u001b[0m\n\u001b[0;32m   1432\u001b[0m         \u001b[0mcx\u001b[0m \u001b[1;33m=\u001b[0m \u001b[0mself\u001b[0m\u001b[1;33m.\u001b[0m\u001b[0m_reacquire\u001b[0m\u001b[1;33m(\u001b[0m\u001b[0mresult\u001b[0m\u001b[1;33m.\u001b[0m\u001b[0mtransaction\u001b[0m\u001b[1;33m)\u001b[0m\u001b[1;33m\u001b[0m\u001b[1;33m\u001b[0m\u001b[0m\n\u001b[0;32m   1433\u001b[0m         \u001b[1;32mtry\u001b[0m\u001b[1;33m:\u001b[0m\u001b[1;33m\u001b[0m\u001b[1;33m\u001b[0m\u001b[0m\n\u001b[1;32m-> 1434\u001b[1;33m             \u001b[0mcx\u001b[0m\u001b[1;33m.\u001b[0m\u001b[0mpull\u001b[0m\u001b[1;33m(\u001b[0m\u001b[0mresult\u001b[0m\u001b[1;33m,\u001b[0m \u001b[0mn\u001b[0m\u001b[1;33m=\u001b[0m\u001b[0mn\u001b[0m\u001b[1;33m)\u001b[0m\u001b[1;33m\u001b[0m\u001b[1;33m\u001b[0m\u001b[0m\n\u001b[0m\u001b[0;32m   1435\u001b[0m         \u001b[1;32mexcept\u001b[0m \u001b[1;33m(\u001b[0m\u001b[0mConnectionUnavailable\u001b[0m\u001b[1;33m,\u001b[0m \u001b[0mConnectionBroken\u001b[0m\u001b[1;33m)\u001b[0m\u001b[1;33m:\u001b[0m\u001b[1;33m\u001b[0m\u001b[1;33m\u001b[0m\u001b[0m\n\u001b[0;32m   1436\u001b[0m             \u001b[0mself\u001b[0m\u001b[1;33m.\u001b[0m\u001b[0mprune\u001b[0m\u001b[1;33m(\u001b[0m\u001b[0mcx\u001b[0m\u001b[1;33m.\u001b[0m\u001b[0mprofile\u001b[0m\u001b[1;33m)\u001b[0m\u001b[1;33m\u001b[0m\u001b[1;33m\u001b[0m\u001b[0m\n",
      "\u001b[1;32m~\\anaconda3\\lib\\site-packages\\py2neo\\client\\bolt.py\u001b[0m in \u001b[0;36mpull\u001b[1;34m(self, result, n, capacity)\u001b[0m\n\u001b[0;32m    999\u001b[0m                                         \"during pull\"), error)\n\u001b[0;32m   1000\u001b[0m         \u001b[1;32melse\u001b[0m\u001b[1;33m:\u001b[0m\u001b[1;33m\u001b[0m\u001b[1;33m\u001b[0m\u001b[0m\n\u001b[1;32m-> 1001\u001b[1;33m             \u001b[0mself\u001b[0m\u001b[1;33m.\u001b[0m\u001b[0m_audit\u001b[0m\u001b[1;33m(\u001b[0m\u001b[0mself\u001b[0m\u001b[1;33m.\u001b[0m\u001b[0m_transaction\u001b[0m\u001b[1;33m)\u001b[0m\u001b[1;33m\u001b[0m\u001b[1;33m\u001b[0m\u001b[0m\n\u001b[0m\u001b[0;32m   1002\u001b[0m             \u001b[1;32mreturn\u001b[0m \u001b[0mresponse\u001b[0m\u001b[1;33m\u001b[0m\u001b[1;33m\u001b[0m\u001b[0m\n\u001b[0;32m   1003\u001b[0m \u001b[1;33m\u001b[0m\u001b[0m\n",
      "\u001b[1;32m~\\anaconda3\\lib\\site-packages\\py2neo\\client\\bolt.py\u001b[0m in \u001b[0;36m_audit\u001b[1;34m(self, task)\u001b[0m\n\u001b[0;32m    808\u001b[0m             \u001b[1;32mreturn\u001b[0m\u001b[1;33m\u001b[0m\u001b[1;33m\u001b[0m\u001b[0m\n\u001b[0;32m    809\u001b[0m         \u001b[1;32mtry\u001b[0m\u001b[1;33m:\u001b[0m\u001b[1;33m\u001b[0m\u001b[1;33m\u001b[0m\u001b[0m\n\u001b[1;32m--> 810\u001b[1;33m             \u001b[0mtask\u001b[0m\u001b[1;33m.\u001b[0m\u001b[0maudit\u001b[0m\u001b[1;33m(\u001b[0m\u001b[1;33m)\u001b[0m\u001b[1;33m\u001b[0m\u001b[1;33m\u001b[0m\u001b[0m\n\u001b[0m\u001b[0;32m    811\u001b[0m         \u001b[1;32mexcept\u001b[0m \u001b[0mNeo4jError\u001b[0m\u001b[1;33m:\u001b[0m\u001b[1;33m\u001b[0m\u001b[1;33m\u001b[0m\u001b[0m\n\u001b[0;32m    812\u001b[0m             \u001b[0mself\u001b[0m\u001b[1;33m.\u001b[0m\u001b[0mreset\u001b[0m\u001b[1;33m(\u001b[0m\u001b[0mforce\u001b[0m\u001b[1;33m=\u001b[0m\u001b[1;32mTrue\u001b[0m\u001b[1;33m)\u001b[0m\u001b[1;33m\u001b[0m\u001b[1;33m\u001b[0m\u001b[0m\n",
      "\u001b[1;32m~\\anaconda3\\lib\\site-packages\\py2neo\\client\\bolt.py\u001b[0m in \u001b[0;36maudit\u001b[1;34m(self)\u001b[0m\n\u001b[0;32m   1138\u001b[0m     \u001b[1;32mdef\u001b[0m \u001b[0maudit\u001b[0m\u001b[1;33m(\u001b[0m\u001b[0mself\u001b[0m\u001b[1;33m)\u001b[0m\u001b[1;33m:\u001b[0m\u001b[1;33m\u001b[0m\u001b[1;33m\u001b[0m\u001b[0m\n\u001b[0;32m   1139\u001b[0m         \u001b[1;32mfor\u001b[0m \u001b[0mitem\u001b[0m \u001b[1;32min\u001b[0m \u001b[0mself\u001b[0m\u001b[1;33m.\u001b[0m\u001b[0m_items\u001b[0m\u001b[1;33m:\u001b[0m\u001b[1;33m\u001b[0m\u001b[1;33m\u001b[0m\u001b[0m\n\u001b[1;32m-> 1140\u001b[1;33m             \u001b[0mitem\u001b[0m\u001b[1;33m.\u001b[0m\u001b[0maudit\u001b[0m\u001b[1;33m(\u001b[0m\u001b[1;33m)\u001b[0m\u001b[1;33m\u001b[0m\u001b[1;33m\u001b[0m\u001b[0m\n\u001b[0m\u001b[0;32m   1141\u001b[0m \u001b[1;33m\u001b[0m\u001b[0m\n\u001b[0;32m   1142\u001b[0m \u001b[1;33m\u001b[0m\u001b[0m\n",
      "\u001b[1;32m~\\anaconda3\\lib\\site-packages\\py2neo\\client\\bolt.py\u001b[0m in \u001b[0;36maudit\u001b[1;34m(self)\u001b[0m\n\u001b[0;32m   1138\u001b[0m     \u001b[1;32mdef\u001b[0m \u001b[0maudit\u001b[0m\u001b[1;33m(\u001b[0m\u001b[0mself\u001b[0m\u001b[1;33m)\u001b[0m\u001b[1;33m:\u001b[0m\u001b[1;33m\u001b[0m\u001b[1;33m\u001b[0m\u001b[0m\n\u001b[0;32m   1139\u001b[0m         \u001b[1;32mfor\u001b[0m \u001b[0mitem\u001b[0m \u001b[1;32min\u001b[0m \u001b[0mself\u001b[0m\u001b[1;33m.\u001b[0m\u001b[0m_items\u001b[0m\u001b[1;33m:\u001b[0m\u001b[1;33m\u001b[0m\u001b[1;33m\u001b[0m\u001b[0m\n\u001b[1;32m-> 1140\u001b[1;33m             \u001b[0mitem\u001b[0m\u001b[1;33m.\u001b[0m\u001b[0maudit\u001b[0m\u001b[1;33m(\u001b[0m\u001b[1;33m)\u001b[0m\u001b[1;33m\u001b[0m\u001b[1;33m\u001b[0m\u001b[0m\n\u001b[0m\u001b[0;32m   1141\u001b[0m \u001b[1;33m\u001b[0m\u001b[0m\n\u001b[0;32m   1142\u001b[0m \u001b[1;33m\u001b[0m\u001b[0m\n",
      "\u001b[1;32m~\\anaconda3\\lib\\site-packages\\py2neo\\client\\bolt.py\u001b[0m in \u001b[0;36maudit\u001b[1;34m(self)\u001b[0m\n\u001b[0;32m   1301\u001b[0m         \u001b[1;32mif\u001b[0m \u001b[0mself\u001b[0m\u001b[1;33m.\u001b[0m\u001b[0m_failure\u001b[0m\u001b[1;33m:\u001b[0m\u001b[1;33m\u001b[0m\u001b[1;33m\u001b[0m\u001b[0m\n\u001b[0;32m   1302\u001b[0m             \u001b[0mself\u001b[0m\u001b[1;33m.\u001b[0m\u001b[0mset_ignored\u001b[0m\u001b[1;33m(\u001b[0m\u001b[1;33m)\u001b[0m\u001b[1;33m\u001b[0m\u001b[1;33m\u001b[0m\u001b[0m\n\u001b[1;32m-> 1303\u001b[1;33m             \u001b[1;32mraise\u001b[0m \u001b[0mself\u001b[0m\u001b[1;33m.\u001b[0m\u001b[0m_failure\u001b[0m\u001b[1;33m\u001b[0m\u001b[1;33m\u001b[0m\u001b[0m\n\u001b[0m\u001b[0;32m   1304\u001b[0m \u001b[1;33m\u001b[0m\u001b[0m\n\u001b[0;32m   1305\u001b[0m     \u001b[1;33m@\u001b[0m\u001b[0mproperty\u001b[0m\u001b[1;33m\u001b[0m\u001b[1;33m\u001b[0m\u001b[0m\n",
      "\u001b[1;31mClientError\u001b[0m: [Procedure.ProcedureCallFailed] Failed to invoke procedure `gds.graph.project`: Caused by: java.lang.IllegalArgumentException: A graph with name 'Artist' already exists."
     ]
    }
   ],
   "source": [
    "graph.run(\n",
    "    \"\"\"\n",
    "    CALL gds.graph.project(\n",
    "   'Artist',\n",
    "   'Artist',\n",
    "   'APPRENTICE_OF')\n",
    "YIELD\n",
    "graphName AS graph,\n",
    "nodeProjection,\n",
    "nodeCount AS nodes,\n",
    "relationshipProjection,\n",
    "relationshipCount AS rels\n",
    " \n",
    "    \"\"\"\n",
    ")"
   ]
  },
  {
   "cell_type": "code",
   "execution_count": 114,
   "id": "ea3c72f9",
   "metadata": {},
   "outputs": [
    {
     "data": {
      "text/html": [
       "<table><tr><th>names</th><th>componentId</th></tr><tr><td style=\"text-align:left\">[&#039;Vincent Van Gogh&#039;]</td><td style=\"text-align:right\">0</td></tr><tr><td style=\"text-align:left\">[&#039;Pierre Auguste Renoir&#039;]</td><td style=\"text-align:right\">1</td></tr><tr><td style=\"text-align:left\">[&#039;Claude Oscar Monet&#039;]</td><td style=\"text-align:right\">2</td></tr></table>"
      ],
      "text/plain": [
       " names                     | componentId \n",
       "---------------------------|-------------\n",
       " ['Vincent Van Gogh']      |           0 \n",
       " ['Pierre Auguste Renoir'] |           1 \n",
       " ['Claude Oscar Monet']    |           2 "
      ]
     },
     "execution_count": 114,
     "metadata": {},
     "output_type": "execute_result"
    }
   ],
   "source": [
    "graph.run(\n",
    "    \"\"\"\n",
    "CALL gds.wcc.stream('Artist')\n",
    "YIELD nodeId, componentId\n",
    "RETURN collect(gds.util.asNode(nodeId).name) AS names, componentId\n",
    "ORDER BY componentId, names\n",
    "    \"\"\"\n",
    ")"
   ]
  },
  {
   "cell_type": "code",
   "execution_count": 115,
   "id": "d4902a36",
   "metadata": {},
   "outputs": [
    {
     "data": {
      "text/html": [
       "<table><tr><th>Artist</th><th>communityId</th></tr><tr><td style=\"text-align:left\">[&#039;Vincent Van Gogh&#039;]</td><td style=\"text-align:right\">0</td></tr><tr><td style=\"text-align:left\">[&#039;Pierre Auguste Renoir&#039;]</td><td style=\"text-align:right\">1</td></tr><tr><td style=\"text-align:left\">[&#039;Claude Oscar Monet&#039;]</td><td style=\"text-align:right\">2</td></tr></table>"
      ],
      "text/plain": [
       " Artist                    | communityId \n",
       "---------------------------|-------------\n",
       " ['Vincent Van Gogh']      |           0 \n",
       " ['Pierre Auguste Renoir'] |           1 \n",
       " ['Claude Oscar Monet']    |           2 "
      ]
     },
     "execution_count": 115,
     "metadata": {},
     "output_type": "execute_result"
    }
   ],
   "source": [
    "graph.run(\n",
    "    \"\"\"\n",
    "CALL gds.louvain.stream('Artist')\n",
    "YIELD nodeId, communityId\n",
    "RETURN collect(gds.util.asNode(nodeId).name) AS Artist,\n",
    "     communityId\n",
    "ORDER BY communityId\n",
    "    \"\"\"\n",
    ")"
   ]
  },
  {
   "cell_type": "code",
   "execution_count": null,
   "id": "33c466c7",
   "metadata": {},
   "outputs": [],
   "source": [
    "graph.run(\n",
    "    \"\"\"\n",
    "CALL gds.wcc.stream('Artist')\n",
    "YIELD nodeId, componentId\n",
    "RETURN gds.util.asNode(nodeId).name AS names, componentId\n",
    "ORDER BY componentId, names\n",
    "    \"\"\"\n",
    ")"
   ]
  },
  {
   "cell_type": "code",
   "execution_count": null,
   "id": "144f061a",
   "metadata": {},
   "outputs": [],
   "source": [
    "graph.run(\n",
    "    \"\"\"\n",
    "CALL gds.louvain.stream('Artist')\n",
    "YIELD nodeId, communityId\n",
    "RETURN gds.util.asNode(nodeId).name AS Artist,\n",
    "     communityId\n",
    "ORDER BY communityId\n",
    "    \"\"\"\n",
    ")"
   ]
  }
 ],
 "metadata": {
  "kernelspec": {
   "display_name": "Python 3 (ipykernel)",
   "language": "python",
   "name": "python3"
  },
  "language_info": {
   "codemirror_mode": {
    "name": "ipython",
    "version": 3
   },
   "file_extension": ".py",
   "mimetype": "text/x-python",
   "name": "python",
   "nbconvert_exporter": "python",
   "pygments_lexer": "ipython3",
   "version": "3.9.13"
  }
 },
 "nbformat": 4,
 "nbformat_minor": 5
}
