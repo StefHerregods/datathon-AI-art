{
 "cells": [
  {
   "cell_type": "markdown",
   "id": "577321e3",
   "metadata": {},
   "source": [
    "# Summary\n",
    "\n",
    "1)  load data\n",
    "\n",
    "2)  PCA does not look necessary\n",
    "\n",
    "3) Logistic regressions (assumptions not really met)\n",
    "\n",
    "4) XGBoost "
   ]
  },
  {
   "cell_type": "code",
   "execution_count": 33,
   "id": "5a164cab",
   "metadata": {},
   "outputs": [
    {
     "name": "stdout",
     "output_type": "stream",
     "text": [
      "^C\n"
     ]
    }
   ],
   "source": [
    "!pip uninstall matplotlib"
   ]
  },
  {
   "cell_type": "markdown",
   "id": "779740db",
   "metadata": {},
   "source": [
    "# Feature importance analysis"
   ]
  },
  {
   "cell_type": "code",
   "execution_count": 32,
   "id": "e5a7941e",
   "metadata": {
    "scrolled": true
   },
   "outputs": [
    {
     "ename": "AttributeError",
     "evalue": "module 'matplotlib' has no attribute 'rcParams'",
     "output_type": "error",
     "traceback": [
      "\u001b[1;31m---------------------------------------------------------------------------\u001b[0m",
      "\u001b[1;31mAttributeError\u001b[0m                            Traceback (most recent call last)",
      "Cell \u001b[1;32mIn[32], line 2\u001b[0m\n\u001b[0;32m      1\u001b[0m \u001b[38;5;28;01mimport\u001b[39;00m \u001b[38;5;21;01mpandas\u001b[39;00m \u001b[38;5;28;01mas\u001b[39;00m \u001b[38;5;21;01mpd\u001b[39;00m\n\u001b[1;32m----> 2\u001b[0m \u001b[38;5;28;01mimport\u001b[39;00m \u001b[38;5;21;01mmatplotlib\u001b[39;00m\u001b[38;5;21;01m.\u001b[39;00m\u001b[38;5;21;01mpyplot\u001b[39;00m \u001b[38;5;28;01mas\u001b[39;00m \u001b[38;5;21;01mplt\u001b[39;00m\n\u001b[0;32m      3\u001b[0m \u001b[38;5;28;01mimport\u001b[39;00m \u001b[38;5;21;01mseaborn\u001b[39;00m \u001b[38;5;28;01mas\u001b[39;00m \u001b[38;5;21;01msns\u001b[39;00m\n\u001b[0;32m      4\u001b[0m np\u001b[38;5;241m.\u001b[39mset_printoptions(threshold\u001b[38;5;241m=\u001b[39m\u001b[38;5;241m30\u001b[39m)\n",
      "File \u001b[1;32m~\\anaconda3\\envs\\DatathonArt\\lib\\site-packages\\matplotlib\\pyplot.py:52\u001b[0m\n\u001b[0;32m     50\u001b[0m \u001b[38;5;28;01mfrom\u001b[39;00m \u001b[38;5;21;01mcycler\u001b[39;00m \u001b[38;5;28;01mimport\u001b[39;00m cycler\n\u001b[0;32m     51\u001b[0m \u001b[38;5;28;01mimport\u001b[39;00m \u001b[38;5;21;01mmatplotlib\u001b[39;00m\n\u001b[1;32m---> 52\u001b[0m \u001b[38;5;28;01mimport\u001b[39;00m \u001b[38;5;21;01mmatplotlib\u001b[39;00m\u001b[38;5;21;01m.\u001b[39;00m\u001b[38;5;21;01mcolorbar\u001b[39;00m\n\u001b[0;32m     53\u001b[0m \u001b[38;5;28;01mimport\u001b[39;00m \u001b[38;5;21;01mmatplotlib\u001b[39;00m\u001b[38;5;21;01m.\u001b[39;00m\u001b[38;5;21;01mimage\u001b[39;00m\n\u001b[0;32m     54\u001b[0m \u001b[38;5;28;01mfrom\u001b[39;00m \u001b[38;5;21;01mmatplotlib\u001b[39;00m \u001b[38;5;28;01mimport\u001b[39;00m _api\n",
      "File \u001b[1;32m~\\anaconda3\\envs\\DatathonArt\\lib\\site-packages\\matplotlib\\colorbar.py:19\u001b[0m\n\u001b[0;32m     16\u001b[0m \u001b[38;5;28;01mimport\u001b[39;00m \u001b[38;5;21;01mnumpy\u001b[39;00m \u001b[38;5;28;01mas\u001b[39;00m \u001b[38;5;21;01mnp\u001b[39;00m\n\u001b[0;32m     18\u001b[0m \u001b[38;5;28;01mimport\u001b[39;00m \u001b[38;5;21;01mmatplotlib\u001b[39;00m \u001b[38;5;28;01mas\u001b[39;00m \u001b[38;5;21;01mmpl\u001b[39;00m\n\u001b[1;32m---> 19\u001b[0m \u001b[38;5;28;01mfrom\u001b[39;00m \u001b[38;5;21;01mmatplotlib\u001b[39;00m \u001b[38;5;28;01mimport\u001b[39;00m _api, cbook, collections, cm, colors, contour, ticker\n\u001b[0;32m     20\u001b[0m \u001b[38;5;28;01mimport\u001b[39;00m \u001b[38;5;21;01mmatplotlib\u001b[39;00m\u001b[38;5;21;01m.\u001b[39;00m\u001b[38;5;21;01martist\u001b[39;00m \u001b[38;5;28;01mas\u001b[39;00m \u001b[38;5;21;01mmartist\u001b[39;00m\n\u001b[0;32m     21\u001b[0m \u001b[38;5;28;01mimport\u001b[39;00m \u001b[38;5;21;01mmatplotlib\u001b[39;00m\u001b[38;5;21;01m.\u001b[39;00m\u001b[38;5;21;01mpatches\u001b[39;00m \u001b[38;5;28;01mas\u001b[39;00m \u001b[38;5;21;01mmpatches\u001b[39;00m\n",
      "File \u001b[1;32m~\\anaconda3\\envs\\DatathonArt\\lib\\site-packages\\matplotlib\\collections.py:19\u001b[0m\n\u001b[0;32m     16\u001b[0m \u001b[38;5;28;01mimport\u001b[39;00m \u001b[38;5;21;01mnumpy\u001b[39;00m \u001b[38;5;28;01mas\u001b[39;00m \u001b[38;5;21;01mnp\u001b[39;00m\n\u001b[0;32m     18\u001b[0m \u001b[38;5;28;01mimport\u001b[39;00m \u001b[38;5;21;01mmatplotlib\u001b[39;00m \u001b[38;5;28;01mas\u001b[39;00m \u001b[38;5;21;01mmpl\u001b[39;00m\n\u001b[1;32m---> 19\u001b[0m \u001b[38;5;28;01mfrom\u001b[39;00m \u001b[38;5;21;01m.\u001b[39;00m \u001b[38;5;28;01mimport\u001b[39;00m (_api, _path, artist, cbook, cm, colors \u001b[38;5;28;01mas\u001b[39;00m mcolors, _docstring,\n\u001b[0;32m     20\u001b[0m                hatch \u001b[38;5;28;01mas\u001b[39;00m mhatch, lines \u001b[38;5;28;01mas\u001b[39;00m mlines, path \u001b[38;5;28;01mas\u001b[39;00m mpath, transforms)\n\u001b[0;32m     21\u001b[0m \u001b[38;5;28;01mfrom\u001b[39;00m \u001b[38;5;21;01m.\u001b[39;00m\u001b[38;5;21;01m_enums\u001b[39;00m \u001b[38;5;28;01mimport\u001b[39;00m JoinStyle, CapStyle\n\u001b[0;32m     24\u001b[0m \u001b[38;5;66;03m# \"color\" is excluded; it is a compound setter, and its docstring differs\u001b[39;00m\n\u001b[0;32m     25\u001b[0m \u001b[38;5;66;03m# in LineCollection.\u001b[39;00m\n",
      "File \u001b[1;32m~\\anaconda3\\envs\\DatathonArt\\lib\\site-packages\\matplotlib\\artist.py:16\u001b[0m\n\u001b[0;32m     14\u001b[0m \u001b[38;5;28;01mfrom\u001b[39;00m \u001b[38;5;21;01m.\u001b[39;00m \u001b[38;5;28;01mimport\u001b[39;00m _api, cbook\n\u001b[0;32m     15\u001b[0m \u001b[38;5;28;01mfrom\u001b[39;00m \u001b[38;5;21;01m.\u001b[39;00m\u001b[38;5;21;01mcolors\u001b[39;00m \u001b[38;5;28;01mimport\u001b[39;00m BoundaryNorm\n\u001b[1;32m---> 16\u001b[0m \u001b[38;5;28;01mfrom\u001b[39;00m \u001b[38;5;21;01m.\u001b[39;00m\u001b[38;5;21;01mcm\u001b[39;00m \u001b[38;5;28;01mimport\u001b[39;00m ScalarMappable\n\u001b[0;32m     17\u001b[0m \u001b[38;5;28;01mfrom\u001b[39;00m \u001b[38;5;21;01m.\u001b[39;00m\u001b[38;5;21;01mpath\u001b[39;00m \u001b[38;5;28;01mimport\u001b[39;00m Path\n\u001b[0;32m     18\u001b[0m \u001b[38;5;28;01mfrom\u001b[39;00m \u001b[38;5;21;01m.\u001b[39;00m\u001b[38;5;21;01mtransforms\u001b[39;00m \u001b[38;5;28;01mimport\u001b[39;00m (Bbox, IdentityTransform, Transform, TransformedBbox,\n\u001b[0;32m     19\u001b[0m                          TransformedPatchPath, TransformedPath)\n",
      "File \u001b[1;32m~\\anaconda3\\envs\\DatathonArt\\lib\\site-packages\\matplotlib\\cm.py:30\u001b[0m\n\u001b[0;32m     26\u001b[0m \u001b[38;5;28;01mfrom\u001b[39;00m \u001b[38;5;21;01mmatplotlib\u001b[39;00m\u001b[38;5;21;01m.\u001b[39;00m\u001b[38;5;21;01m_cm\u001b[39;00m \u001b[38;5;28;01mimport\u001b[39;00m datad\n\u001b[0;32m     27\u001b[0m \u001b[38;5;28;01mfrom\u001b[39;00m \u001b[38;5;21;01mmatplotlib\u001b[39;00m\u001b[38;5;21;01m.\u001b[39;00m\u001b[38;5;21;01m_cm_listed\u001b[39;00m \u001b[38;5;28;01mimport\u001b[39;00m cmaps \u001b[38;5;28;01mas\u001b[39;00m cmaps_listed\n\u001b[1;32m---> 30\u001b[0m _LUTSIZE \u001b[38;5;241m=\u001b[39m \u001b[43mmpl\u001b[49m\u001b[38;5;241;43m.\u001b[39;49m\u001b[43mrcParams\u001b[49m[\u001b[38;5;124m'\u001b[39m\u001b[38;5;124mimage.lut\u001b[39m\u001b[38;5;124m'\u001b[39m]\n\u001b[0;32m     33\u001b[0m \u001b[38;5;28;01mdef\u001b[39;00m \u001b[38;5;21m_gen_cmap_registry\u001b[39m():\n\u001b[0;32m     34\u001b[0m \u001b[38;5;250m    \u001b[39m\u001b[38;5;124;03m\"\"\"\u001b[39;00m\n\u001b[0;32m     35\u001b[0m \u001b[38;5;124;03m    Generate a dict mapping standard colormap names to standard colormaps, as\u001b[39;00m\n\u001b[0;32m     36\u001b[0m \u001b[38;5;124;03m    well as the reversed colormaps.\u001b[39;00m\n\u001b[0;32m     37\u001b[0m \u001b[38;5;124;03m    \"\"\"\u001b[39;00m\n",
      "\u001b[1;31mAttributeError\u001b[0m: module 'matplotlib' has no attribute 'rcParams'"
     ]
    }
   ],
   "source": [
    "import pandas as pd\n",
    "import matplotlib.pyplot as plt\n",
    "import seaborn as sns\n",
    "np.set_printoptions(threshold=30)"
   ]
  },
  {
   "cell_type": "code",
   "execution_count": 11,
   "id": "420b9649",
   "metadata": {
    "scrolled": true
   },
   "outputs": [
    {
     "name": "stderr",
     "output_type": "stream",
     "text": [
      "C:\\Users\\herre\\AppData\\Local\\Temp\\ipykernel_15192\\1824527765.py:1: DtypeWarning: Columns (2) have mixed types. Specify dtype option on import or set low_memory=False.\n",
      "  df = pd.read_csv(r'DataProcessing\\\\new_final_df.csv')\n"
     ]
    },
    {
     "data": {
      "text/html": [
       "<div>\n",
       "<style scoped>\n",
       "    .dataframe tbody tr th:only-of-type {\n",
       "        vertical-align: middle;\n",
       "    }\n",
       "\n",
       "    .dataframe tbody tr th {\n",
       "        vertical-align: top;\n",
       "    }\n",
       "\n",
       "    .dataframe thead th {\n",
       "        text-align: right;\n",
       "    }\n",
       "</style>\n",
       "<table border=\"1\" class=\"dataframe\">\n",
       "  <thead>\n",
       "    <tr style=\"text-align: right;\">\n",
       "      <th></th>\n",
       "      <th>AI_Generated</th>\n",
       "      <th>logit</th>\n",
       "      <th>edge_score</th>\n",
       "      <th>contrast_score</th>\n",
       "      <th>brightness_score</th>\n",
       "      <th>saturation_score</th>\n",
       "      <th>num_rels</th>\n",
       "      <th>classification</th>\n",
       "      <th>accuracy_prediction</th>\n",
       "    </tr>\n",
       "  </thead>\n",
       "  <tbody>\n",
       "    <tr>\n",
       "      <th>0</th>\n",
       "      <td>0</td>\n",
       "      <td>-8.378802</td>\n",
       "      <td>46.383220</td>\n",
       "      <td>55.552072</td>\n",
       "      <td>112.148305</td>\n",
       "      <td>127.663731</td>\n",
       "      <td>1</td>\n",
       "      <td>0</td>\n",
       "      <td>1</td>\n",
       "    </tr>\n",
       "    <tr>\n",
       "      <th>1</th>\n",
       "      <td>0</td>\n",
       "      <td>-14.644643</td>\n",
       "      <td>47.354136</td>\n",
       "      <td>54.624181</td>\n",
       "      <td>124.601402</td>\n",
       "      <td>62.417748</td>\n",
       "      <td>1</td>\n",
       "      <td>0</td>\n",
       "      <td>1</td>\n",
       "    </tr>\n",
       "    <tr>\n",
       "      <th>2</th>\n",
       "      <td>0</td>\n",
       "      <td>-4.634872</td>\n",
       "      <td>28.550276</td>\n",
       "      <td>48.946494</td>\n",
       "      <td>103.395141</td>\n",
       "      <td>80.945548</td>\n",
       "      <td>5</td>\n",
       "      <td>1</td>\n",
       "      <td>0</td>\n",
       "    </tr>\n",
       "    <tr>\n",
       "      <th>3</th>\n",
       "      <td>0</td>\n",
       "      <td>-10.061778</td>\n",
       "      <td>67.087002</td>\n",
       "      <td>52.743048</td>\n",
       "      <td>166.384401</td>\n",
       "      <td>80.268604</td>\n",
       "      <td>0</td>\n",
       "      <td>0</td>\n",
       "      <td>1</td>\n",
       "    </tr>\n",
       "    <tr>\n",
       "      <th>4</th>\n",
       "      <td>0</td>\n",
       "      <td>-5.156153</td>\n",
       "      <td>58.546688</td>\n",
       "      <td>54.431662</td>\n",
       "      <td>87.995360</td>\n",
       "      <td>159.627900</td>\n",
       "      <td>0</td>\n",
       "      <td>1</td>\n",
       "      <td>0</td>\n",
       "    </tr>\n",
       "  </tbody>\n",
       "</table>\n",
       "</div>"
      ],
      "text/plain": [
       "   AI_Generated      logit  edge_score  contrast_score  brightness_score  \\\n",
       "0             0  -8.378802   46.383220       55.552072        112.148305   \n",
       "1             0 -14.644643   47.354136       54.624181        124.601402   \n",
       "2             0  -4.634872   28.550276       48.946494        103.395141   \n",
       "3             0 -10.061778   67.087002       52.743048        166.384401   \n",
       "4             0  -5.156153   58.546688       54.431662         87.995360   \n",
       "\n",
       "   saturation_score  num_rels  classification  accuracy_prediction  \n",
       "0        127.663731         1               0                    1  \n",
       "1         62.417748         1               0                    1  \n",
       "2         80.945548         5               1                    0  \n",
       "3         80.268604         0               0                    1  \n",
       "4        159.627900         0               1                    0  "
      ]
     },
     "execution_count": 11,
     "metadata": {},
     "output_type": "execute_result"
    }
   ],
   "source": [
    "df = pd.read_csv(r'DataProcessing\\\\new_final_df.csv')\n",
    "df = df.iloc[:,5:]\n",
    "df.drop(columns = ['time','picture','birthplace','deathplace','birthdate','deathdate','parent','rating'], inplace=True)\n",
    "df = df[[col for col in df.columns if not col.startswith(('Movement', 'Education', 'Specialty'))]].select_dtypes(include=['number', 'bool'])\n",
    "df = df[(df.notna().all(axis=1))]  # Remove all censored images\n",
    "df.head()"
   ]
  },
  {
   "cell_type": "markdown",
   "id": "127f3f80",
   "metadata": {},
   "source": [
    "## PCA\n",
    "\n",
    "Imo, if we work with this small amount of components, it is not necessary."
   ]
  },
  {
   "cell_type": "code",
   "execution_count": 130,
   "id": "a2b269e1",
   "metadata": {
    "scrolled": false
   },
   "outputs": [
    {
     "data": {
      "image/png": "[encoded data removed]",
      "text/plain": [
       "<Figure size 640x480 with 2 Axes>"
      ]
     },
     "metadata": {},
     "output_type": "display_data"
    }
   ],
   "source": [
    "# Generate a correlation matrix\n",
    "corr_matrix = df.corr()\n",
    "\n",
    "# Create a heatmap using the correlation matrix\n",
    "sns.heatmap(corr_matrix, cmap='coolwarm')\n",
    "\n",
    "# Show the plot\n",
    "plt.show()"
   ]
  },
  {
   "cell_type": "code",
   "execution_count": 131,
   "id": "e7a74a80",
   "metadata": {},
   "outputs": [
    {
     "name": "stdout",
     "output_type": "stream",
     "text": [
      "AI_Generated           0\n",
      "logit                  0\n",
      "edge_score             0\n",
      "contrast_score         0\n",
      "brightness_score       0\n",
      "saturation_score       0\n",
      "num_rels               0\n",
      "classification         0\n",
      "accuracy_prediction    0\n",
      "dtype: int64\n"
     ]
    }
   ],
   "source": [
    "na_counts = df.isna().sum()\n",
    "\n",
    "# Print the resulting series of NaN counts\n",
    "print(na_counts)"
   ]
  },
  {
   "cell_type": "code",
   "execution_count": 5,
   "id": "001d16b9",
   "metadata": {
    "scrolled": true
   },
   "outputs": [
    {
     "ename": "ModuleNotFoundError",
     "evalue": "No module named 'matplotlib.colorbar'",
     "output_type": "error",
     "traceback": [
      "\u001b[1;31m---------------------------------------------------------------------------\u001b[0m",
      "\u001b[1;31mModuleNotFoundError\u001b[0m                       Traceback (most recent call last)",
      "Cell \u001b[1;32mIn[5], line 2\u001b[0m\n\u001b[0;32m      1\u001b[0m \u001b[38;5;28;01mimport\u001b[39;00m \u001b[38;5;21;01mpandas\u001b[39;00m \u001b[38;5;28;01mas\u001b[39;00m \u001b[38;5;21;01mpd\u001b[39;00m\n\u001b[1;32m----> 2\u001b[0m \u001b[38;5;28;01mimport\u001b[39;00m \u001b[38;5;21;01mmatplotlib\u001b[39;00m\u001b[38;5;21;01m.\u001b[39;00m\u001b[38;5;21;01mpyplot\u001b[39;00m \u001b[38;5;28;01mas\u001b[39;00m \u001b[38;5;21;01mplt\u001b[39;00m\n\u001b[0;32m      3\u001b[0m \u001b[38;5;28;01mfrom\u001b[39;00m \u001b[38;5;21;01msklearn\u001b[39;00m\u001b[38;5;21;01m.\u001b[39;00m\u001b[38;5;21;01mdecomposition\u001b[39;00m \u001b[38;5;28;01mimport\u001b[39;00m PCA\n\u001b[0;32m      5\u001b[0m \u001b[38;5;66;03m# Extract the numerical features from your dataset\u001b[39;00m\n",
      "File \u001b[1;32m~\\anaconda3\\envs\\DatathonArt\\lib\\site-packages\\matplotlib\\pyplot.py:52\u001b[0m\n\u001b[0;32m     50\u001b[0m \u001b[38;5;28;01mfrom\u001b[39;00m \u001b[38;5;21;01mcycler\u001b[39;00m \u001b[38;5;28;01mimport\u001b[39;00m cycler\n\u001b[0;32m     51\u001b[0m \u001b[38;5;28;01mimport\u001b[39;00m \u001b[38;5;21;01mmatplotlib\u001b[39;00m\n\u001b[1;32m---> 52\u001b[0m \u001b[38;5;28;01mimport\u001b[39;00m \u001b[38;5;21;01mmatplotlib\u001b[39;00m\u001b[38;5;21;01m.\u001b[39;00m\u001b[38;5;21;01mcolorbar\u001b[39;00m\n\u001b[0;32m     53\u001b[0m \u001b[38;5;28;01mimport\u001b[39;00m \u001b[38;5;21;01mmatplotlib\u001b[39;00m\u001b[38;5;21;01m.\u001b[39;00m\u001b[38;5;21;01mimage\u001b[39;00m\n\u001b[0;32m     54\u001b[0m \u001b[38;5;28;01mfrom\u001b[39;00m \u001b[38;5;21;01mmatplotlib\u001b[39;00m \u001b[38;5;28;01mimport\u001b[39;00m _api\n",
      "\u001b[1;31mModuleNotFoundError\u001b[0m: No module named 'matplotlib.colorbar'"
     ]
    }
   ],
   "source": [
    "import pandas as pd\n",
    "import matplotlib.pyplot as plt\n",
    "from sklearn.decomposition import PCA\n",
    "\n",
    "# Extract the numerical features from your dataset\n",
    "num_cols = [col for col in df.columns if df[col].dtype in ['int64', 'float64']]\n",
    "X = df[num_cols]\n",
    "X.drop(columns=['AI_Generated','classification','accuracy_prediction'], inplace=True)\n",
    "\n",
    "# Fit a PCA model on your dataset\n",
    "pca = PCA().fit(X)\n",
    "\n",
    "# Plot the scree plot\n",
    "plt.plot(range(1, len(pca.explained_variance_ratio_) + 1), pca.explained_variance_ratio_, 'o-')\n",
    "plt.xlabel('Number of components')\n",
    "plt.ylabel('Proportion of variance explained')\n",
    "plt.title('Scree plot')\n",
    "plt.show()\n"
   ]
  },
  {
   "cell_type": "markdown",
   "id": "2f1d6c8a",
   "metadata": {},
   "source": [
    "# Logistic regression on AI_Generated"
   ]
  },
  {
   "cell_type": "code",
   "execution_count": 35,
   "id": "7d0aafc3",
   "metadata": {},
   "outputs": [
    {
     "name": "stdout",
     "output_type": "stream",
     "text": [
      "Optimization terminated successfully.\n",
      "         Current function value: 0.380891\n",
      "         Iterations 7\n",
      "Accuracy: 0.8257686676427526\n",
      "                           Logit Regression Results                           \n",
      "==============================================================================\n",
      "Dep. Variable:           AI_Generated   No. Observations:                10928\n",
      "Model:                          Logit   Df Residuals:                    10921\n",
      "Method:                           MLE   Df Model:                            6\n",
      "Date:                Wed, 22 Feb 2023   Pseudo R-squ.:                  0.2958\n",
      "Time:                        23:16:18   Log-Likelihood:                -4162.4\n",
      "converged:                       True   LL-Null:                       -5910.8\n",
      "Covariance Type:            nonrobust   LLR p-value:                     0.000\n",
      "====================================================================================\n",
      "                       coef    std err          z      P>|z|      [0.025      0.975]\n",
      "------------------------------------------------------------------------------------\n",
      "const               -5.5378      0.205    -27.029      0.000      -5.939      -5.136\n",
      "logit                0.3822      0.011     34.312      0.000       0.360       0.404\n",
      "edge_score           0.0223      0.002      9.769      0.000       0.018       0.027\n",
      "contrast_score       0.0430      0.002     18.897      0.000       0.038       0.047\n",
      "brightness_score     0.0057      0.001      5.259      0.000       0.004       0.008\n",
      "saturation_score     0.0287      0.001     33.043      0.000       0.027       0.030\n",
      "num_rels             0.0154      0.032      0.481      0.631      -0.047       0.078\n",
      "====================================================================================\n"
     ]
    },
    {
     "name": "stderr",
     "output_type": "stream",
     "text": [
      "C:\\Users\\herre\\AppData\\Local\\Temp\\ipykernel_15192\\3487601676.py:1: DtypeWarning: Columns (2) have mixed types. Specify dtype option on import or set low_memory=False.\n",
      "  df = pd.read_csv(r'DataProcessing\\\\new_final_df.csv')\n"
     ]
    }
   ],
   "source": [
    "df = pd.read_csv(r'DataProcessing\\\\new_final_df.csv')\n",
    "df = df.iloc[:,5:]\n",
    "df.drop(columns = ['time','picture','birthplace','deathplace','birthdate','deathdate','parent','rating'], inplace=True)\n",
    "df = df[[col for col in df.columns if not col.startswith(('Movement', 'Education', 'Specialty'))]].select_dtypes(include=['number', 'bool'])\n",
    "df = df[(df.notna().all(axis=1))]  # Remove all censored images\n",
    "df.head()\n",
    "\n",
    "import pandas as pd\n",
    "import statsmodels.api as sm\n",
    "from sklearn.model_selection import train_test_split\n",
    "from statsmodels.stats.outliers_influence import variance_inflation_factor\n",
    "from sklearn.metrics import accuracy_score\n",
    "\n",
    "\n",
    "# Extract the feature columns and target column\n",
    "X = df.drop(['AI_Generated','classification','accuracy_prediction'], axis=1)\n",
    "y = df['AI_Generated']\n",
    "\n",
    "# Split the data into training and testing sets\n",
    "X_train, X_test, y_train, y_test = train_test_split(X, y, test_size=0.2, random_state=1)\n",
    "\n",
    "# Fit a logistic regression model using statsmodels\n",
    "logit_model = sm.Logit(y_train, sm.add_constant(X_train)).fit()\n",
    "\n",
    "# Predict the class probabilities for the test set\n",
    "y_pred_probs = logit_model.predict(sm.add_constant(X_test))\n",
    "\n",
    "# Convert class probabilities to binary predictions\n",
    "y_pred = [1 if prob > 0.5 else 0 for prob in y_pred_probs]\n",
    "\n",
    "# Compute the accuracy of the model\n",
    "accuracy = accuracy_score(y_test, y_pred)\n",
    "print('Accuracy:', accuracy)\n",
    "\n",
    "# Print the summary of the model\n",
    "print(logit_model.summary())\n"
   ]
  },
  {
   "cell_type": "code",
   "execution_count": 37,
   "id": "1b3377bd",
   "metadata": {},
   "outputs": [
    {
     "name": "stdout",
     "output_type": "stream",
     "text": [
      "   VIF Factor          features\n",
      "0    4.459927             logit\n",
      "1    4.497672        edge_score\n",
      "2   14.162176    contrast_score\n",
      "3    8.380730  brightness_score\n",
      "4    5.568677  saturation_score\n",
      "5    1.401360          num_rels\n"
     ]
    }
   ],
   "source": [
    "# Assumptions\n",
    "\n",
    "result = logit_model \n",
    "\n",
    "# Check assumptions\n",
    "fitted_values = result.fittedvalues\n",
    "residuals = result.resid_response\n",
    "'''\n",
    "# Linearity\n",
    "plt.scatter(fitted_values, residuals)\n",
    "plt.xlabel('Fitted Values')\n",
    "plt.ylabel('Residuals')\n",
    "plt.show()\n",
    "\n",
    "# Independence\n",
    "for column in X_train.columns:\n",
    "    plt.scatter(X_train[column], residuals)\n",
    "    plt.xlabel(column)\n",
    "    plt.ylabel('Residuals')\n",
    "    plt.show()\n",
    "\n",
    "# Homoscedasticity\n",
    "plt.scatter(fitted_values, abs(residuals))\n",
    "plt.xlabel('Fitted Values')\n",
    "plt.ylabel('Absolute Residuals')\n",
    "plt.show()\n",
    "'''\n",
    "# Multicollinearity: Compute VIF for each feature\n",
    "vif = pd.DataFrame()\n",
    "vif[\"VIF Factor\"] = [variance_inflation_factor(X.values, i) for i in range(X.shape[1])]\n",
    "vif[\"features\"] = X.columns\n",
    "\n",
    "print(vif)\n"
   ]
  },
  {
   "cell_type": "markdown",
   "id": "2d056dc5",
   "metadata": {},
   "source": [
    "# Logistic regression on accuracy_prediction"
   ]
  },
  {
   "cell_type": "code",
   "execution_count": 34,
   "id": "26ee3541",
   "metadata": {},
   "outputs": [
    {
     "name": "stdout",
     "output_type": "stream",
     "text": [
      "Optimization terminated successfully.\n",
      "         Current function value: 0.615133\n",
      "         Iterations 5\n",
      "Accuracy: 0.6595900439238653\n",
      "                            Logit Regression Results                           \n",
      "===============================================================================\n",
      "Dep. Variable:     accuracy_prediction   No. Observations:                10928\n",
      "Model:                           Logit   Df Residuals:                    10922\n",
      "Method:                            MLE   Df Model:                            5\n",
      "Date:                 Wed, 22 Feb 2023   Pseudo R-squ.:                 0.06157\n",
      "Time:                         23:15:51   Log-Likelihood:                -6722.2\n",
      "converged:                        True   LL-Null:                       -7163.2\n",
      "Covariance Type:             nonrobust   LLR p-value:                2.015e-188\n",
      "====================================================================================\n",
      "                       coef    std err          z      P>|z|      [0.025      0.975]\n",
      "------------------------------------------------------------------------------------\n",
      "const               -0.2867      0.126     -2.272      0.023      -0.534      -0.039\n",
      "edge_score           0.0528      0.002     24.991      0.000       0.049       0.057\n",
      "contrast_score       0.0036      0.002      2.236      0.025       0.000       0.007\n",
      "brightness_score    -0.0021      0.001     -3.216      0.001      -0.003      -0.001\n",
      "saturation_score    -0.0022      0.001     -3.708      0.000      -0.003      -0.001\n",
      "num_rels             0.0083      0.024      0.344      0.731      -0.039       0.056\n",
      "====================================================================================\n"
     ]
    },
    {
     "name": "stderr",
     "output_type": "stream",
     "text": [
      "C:\\Users\\herre\\AppData\\Local\\Temp\\ipykernel_15192\\2117977965.py:1: DtypeWarning: Columns (2) have mixed types. Specify dtype option on import or set low_memory=False.\n",
      "  df = pd.read_csv(r'DataProcessing\\\\new_final_df.csv')\n"
     ]
    }
   ],
   "source": [
    "df = pd.read_csv(r'DataProcessing\\\\new_final_df.csv')\n",
    "df = df.iloc[:,5:]\n",
    "df.drop(columns = ['time','picture','birthplace','deathplace','birthdate','deathdate','parent','rating'], inplace=True)\n",
    "df = df[[col for col in df.columns if not col.startswith(('Movement', 'Education', 'Specialty'))]].select_dtypes(include=['number', 'bool'])\n",
    "df = df[(df.notna().all(axis=1))]  # Remove all censored images\n",
    "df.head()\n",
    "\n",
    "import pandas as pd\n",
    "import statsmodels.api as sm\n",
    "from sklearn.model_selection import train_test_split\n",
    "from statsmodels.stats.outliers_influence import variance_inflation_factor\n",
    "from sklearn.metrics import accuracy_score\n",
    "\n",
    "\n",
    "# Extract the feature columns and target column\n",
    "X = df.drop(['AI_Generated','classification','accuracy_prediction','logit'], axis=1)\n",
    "y = df['accuracy_prediction']\n",
    "\n",
    "# Split the data into training and testing sets\n",
    "X_train, X_test, y_train, y_test = train_test_split(X, y, test_size=0.2, random_state=1)\n",
    "\n",
    "# Fit a logistic regression model using statsmodels\n",
    "logit_model = sm.Logit(y_train, sm.add_constant(X_train)).fit()\n",
    "\n",
    "# Predict the class probabilities for the test set\n",
    "y_pred_probs = logit_model.predict(sm.add_constant(X_test))\n",
    "\n",
    "# Convert class probabilities to binary predictions\n",
    "y_pred = [1 if prob > 0.5 else 0 for prob in y_pred_probs]\n",
    "\n",
    "# Compute the accuracy of the model\n",
    "accuracy = accuracy_score(y_test, y_pred)\n",
    "print('Accuracy:', accuracy)\n",
    "\n",
    "# Print the summary of the model\n",
    "print(logit_model.summary())"
   ]
  },
  {
   "cell_type": "code",
   "execution_count": null,
   "id": "fb9268a3",
   "metadata": {},
   "outputs": [],
   "source": [
    "# Assumptions\n",
    "result = logit_model\n",
    "\n",
    "# Check assumptions\n",
    "fitted_values = result.fittedvalues\n",
    "residuals = result.resid_response\n",
    "\n",
    "# Linearity\n",
    "plt.scatter(fitted_values, residuals)\n",
    "plt.xlabel('Fitted Values')\n",
    "plt.ylabel('Residuals')\n",
    "plt.show()\n",
    "\n",
    "# Independence\n",
    "for column in X_train.columns:\n",
    "    plt.scatter(X_train[column], residuals)\n",
    "    plt.xlabel(column)\n",
    "    plt.ylabel('Residuals')\n",
    "    plt.show()\n",
    "\n",
    "# Homoscedasticity\n",
    "plt.scatter(fitted_values, abs(residuals))\n",
    "plt.xlabel('Fitted Values')\n",
    "plt.ylabel('Absolute Residuals')\n",
    "plt.show()\n",
    "\n",
    "# Multicollinearity: Compute VIF for each feature\n",
    "vif = pd.DataFrame()\n",
    "vif[\"VIF Factor\"] = [variance_inflation_factor(X.values, i) for i in range(X.shape[1])]\n",
    "vif[\"features\"] = X.columns\n",
    "\n",
    "print(vif)"
   ]
  },
  {
   "cell_type": "markdown",
   "id": "71130716",
   "metadata": {},
   "source": [
    "# XGBoost on AI_Generated"
   ]
  },
  {
   "cell_type": "code",
   "execution_count": 27,
   "id": "2c29458a",
   "metadata": {},
   "outputs": [
    {
     "name": "stderr",
     "output_type": "stream",
     "text": [
      "C:\\Users\\herre\\AppData\\Local\\Temp\\ipykernel_15192\\824078045.py:1: DtypeWarning: Columns (2) have mixed types. Specify dtype option on import or set low_memory=False.\n",
      "  df = pd.read_csv(r'DataProcessing\\\\new_final_df.csv')\n"
     ]
    },
    {
     "data": {
      "text/html": [
       "<div>\n",
       "<style scoped>\n",
       "    .dataframe tbody tr th:only-of-type {\n",
       "        vertical-align: middle;\n",
       "    }\n",
       "\n",
       "    .dataframe tbody tr th {\n",
       "        vertical-align: top;\n",
       "    }\n",
       "\n",
       "    .dataframe thead th {\n",
       "        text-align: right;\n",
       "    }\n",
       "</style>\n",
       "<table border=\"1\" class=\"dataframe\">\n",
       "  <thead>\n",
       "    <tr style=\"text-align: right;\">\n",
       "      <th></th>\n",
       "      <th>AI_Generated</th>\n",
       "      <th>logit</th>\n",
       "      <th>edge_score</th>\n",
       "      <th>contrast_score</th>\n",
       "      <th>brightness_score</th>\n",
       "      <th>saturation_score</th>\n",
       "      <th>num_rels</th>\n",
       "      <th>classification</th>\n",
       "      <th>accuracy_prediction</th>\n",
       "    </tr>\n",
       "  </thead>\n",
       "  <tbody>\n",
       "    <tr>\n",
       "      <th>0</th>\n",
       "      <td>0</td>\n",
       "      <td>-8.378802</td>\n",
       "      <td>46.383220</td>\n",
       "      <td>55.552072</td>\n",
       "      <td>112.148305</td>\n",
       "      <td>127.663731</td>\n",
       "      <td>1</td>\n",
       "      <td>0</td>\n",
       "      <td>1</td>\n",
       "    </tr>\n",
       "    <tr>\n",
       "      <th>1</th>\n",
       "      <td>0</td>\n",
       "      <td>-14.644643</td>\n",
       "      <td>47.354136</td>\n",
       "      <td>54.624181</td>\n",
       "      <td>124.601402</td>\n",
       "      <td>62.417748</td>\n",
       "      <td>1</td>\n",
       "      <td>0</td>\n",
       "      <td>1</td>\n",
       "    </tr>\n",
       "    <tr>\n",
       "      <th>2</th>\n",
       "      <td>0</td>\n",
       "      <td>-4.634872</td>\n",
       "      <td>28.550276</td>\n",
       "      <td>48.946494</td>\n",
       "      <td>103.395141</td>\n",
       "      <td>80.945548</td>\n",
       "      <td>5</td>\n",
       "      <td>1</td>\n",
       "      <td>0</td>\n",
       "    </tr>\n",
       "    <tr>\n",
       "      <th>3</th>\n",
       "      <td>0</td>\n",
       "      <td>-10.061778</td>\n",
       "      <td>67.087002</td>\n",
       "      <td>52.743048</td>\n",
       "      <td>166.384401</td>\n",
       "      <td>80.268604</td>\n",
       "      <td>0</td>\n",
       "      <td>0</td>\n",
       "      <td>1</td>\n",
       "    </tr>\n",
       "    <tr>\n",
       "      <th>4</th>\n",
       "      <td>0</td>\n",
       "      <td>-5.156153</td>\n",
       "      <td>58.546688</td>\n",
       "      <td>54.431662</td>\n",
       "      <td>87.995360</td>\n",
       "      <td>159.627900</td>\n",
       "      <td>0</td>\n",
       "      <td>1</td>\n",
       "      <td>0</td>\n",
       "    </tr>\n",
       "  </tbody>\n",
       "</table>\n",
       "</div>"
      ],
      "text/plain": [
       "   AI_Generated      logit  edge_score  contrast_score  brightness_score  \\\n",
       "0             0  -8.378802   46.383220       55.552072        112.148305   \n",
       "1             0 -14.644643   47.354136       54.624181        124.601402   \n",
       "2             0  -4.634872   28.550276       48.946494        103.395141   \n",
       "3             0 -10.061778   67.087002       52.743048        166.384401   \n",
       "4             0  -5.156153   58.546688       54.431662         87.995360   \n",
       "\n",
       "   saturation_score  num_rels  classification  accuracy_prediction  \n",
       "0        127.663731         1               0                    1  \n",
       "1         62.417748         1               0                    1  \n",
       "2         80.945548         5               1                    0  \n",
       "3         80.268604         0               0                    1  \n",
       "4        159.627900         0               1                    0  "
      ]
     },
     "execution_count": 27,
     "metadata": {},
     "output_type": "execute_result"
    }
   ],
   "source": [
    "df = pd.read_csv(r'DataProcessing\\\\new_final_df.csv')\n",
    "df = df.iloc[:,5:]\n",
    "df = df.loc[:, ~df.columns.str.endswith('x')]\n",
    "df.drop(columns = ['time','picture','birthplace','deathplace','birthdate','deathdate','parent','rating'], inplace=True)\n",
    "df = df[[col for col in df.columns if not col.startswith(('Movement', 'Education', 'Specialty'))]].select_dtypes(include=['number', 'bool'])\n",
    "df = df[(df.notna().all(axis=1))]  # Remove all censored images\n",
    "df.head()"
   ]
  },
  {
   "cell_type": "code",
   "execution_count": 28,
   "id": "8033ca02",
   "metadata": {},
   "outputs": [
    {
     "name": "stdout",
     "output_type": "stream",
     "text": [
      "Accuracy: 87.85%\n",
      "            Feature  Importance\n",
      "0             logit    0.261889\n",
      "4  saturation_score    0.211471\n",
      "3  brightness_score    0.189109\n",
      "1        edge_score    0.188655\n",
      "2    contrast_score    0.096438\n",
      "5          num_rels    0.052438\n"
     ]
    }
   ],
   "source": [
    "import pandas as pd\n",
    "import xgboost as xgb\n",
    "from sklearn.model_selection import train_test_split\n",
    "from sklearn.metrics import accuracy_score\n",
    "\n",
    "# Extract the feature columns and target column\n",
    "X = df.drop(['AI_Generated','classification','accuracy_prediction'], axis=1)\n",
    "y = df['AI_Generated']\n",
    "\n",
    "# Split data into training and testing sets\n",
    "X_train, X_test, y_train, y_test = train_test_split(X, y, test_size=0.2, random_state=42)\n",
    "\n",
    "# Train XGBoost model\n",
    "model = xgb.XGBClassifier()\n",
    "model.fit(X_train, y_train)\n",
    "\n",
    "# Make predictions on testing set\n",
    "y_pred = model.predict(X_test)\n",
    "\n",
    "# Evaluate accuracy of model\n",
    "accuracy = accuracy_score(y_test, y_pred)\n",
    "print('Accuracy: %.2f%%' % (accuracy * 100.0))\n",
    "\n",
    "# Extract feature importances and store them in a pandas dataframe\n",
    "importance = pd.DataFrame({'Feature': X.columns, 'Importance': model.feature_importances_})\n",
    "importance = importance.sort_values(by='Importance', ascending=False)\n",
    "\n",
    "print(importance)\n"
   ]
  },
  {
   "cell_type": "code",
   "execution_count": 29,
   "id": "9dd373c7",
   "metadata": {},
   "outputs": [
    {
     "name": "stdout",
     "output_type": "stream",
     "text": [
      "Accuracy: 87.34% (+/- 0.49%)\n"
     ]
    }
   ],
   "source": [
    "from sklearn.model_selection import cross_val_score\n",
    "from sklearn.model_selection import KFold\n",
    "\n",
    "\n",
    "# Define XGBoost model\n",
    "model = xgb.XGBClassifier()\n",
    "\n",
    "# Perform 5-fold cross-validation\n",
    "cv = KFold(n_splits=5, shuffle=True, random_state=42)\n",
    "scores = cross_val_score(model, X, y, scoring='accuracy', cv=cv)\n",
    "\n",
    "# Calculate mean and standard deviation of accuracy scores\n",
    "mean_score = scores.mean()\n",
    "std_score = scores.std()\n",
    "print('Accuracy: %.2f%% (+/- %.2f%%)' % (mean_score * 100.0, std_score * 100.0))"
   ]
  },
  {
   "cell_type": "markdown",
   "id": "5ffbc4fb",
   "metadata": {},
   "source": [
    "# XGBoost on accuracy_prediction"
   ]
  },
  {
   "cell_type": "code",
   "execution_count": 30,
   "id": "b4f29717",
   "metadata": {},
   "outputs": [
    {
     "name": "stdout",
     "output_type": "stream",
     "text": [
      "Accuracy: 64.31%\n",
      "            Feature  Importance\n",
      "0        edge_score    0.302452\n",
      "3  saturation_score    0.194708\n",
      "1    contrast_score    0.178093\n",
      "2  brightness_score    0.175142\n",
      "4          num_rels    0.149605\n"
     ]
    }
   ],
   "source": [
    "import pandas as pd\n",
    "import xgboost as xgb\n",
    "from sklearn.model_selection import train_test_split\n",
    "from sklearn.metrics import accuracy_score\n",
    "\n",
    "# Extract the feature columns and target column\n",
    "X = df.drop(['AI_Generated','classification','accuracy_prediction','logit'], axis=1)\n",
    "y = df['accuracy_prediction']\n",
    "\n",
    "# Split data into training and testing sets\n",
    "X_train, X_test, y_train, y_test = train_test_split(X, y, test_size=0.2, random_state=42)\n",
    "\n",
    "# Train XGBoost model\n",
    "model = xgb.XGBClassifier()\n",
    "model.fit(X_train, y_train)\n",
    "\n",
    "# Make predictions on testing set\n",
    "y_pred = model.predict(X_test)\n",
    "\n",
    "# Evaluate accuracy of model\n",
    "accuracy = accuracy_score(y_test, y_pred)\n",
    "print('Accuracy: %.2f%%' % (accuracy * 100.0))\n",
    "\n",
    "# Extract feature importances and store them in a pandas dataframe\n",
    "importance = pd.DataFrame({'Feature': X.columns, 'Importance': model.feature_importances_})\n",
    "importance = importance.sort_values(by='Importance', ascending=False)\n",
    "\n",
    "print(importance)\n"
   ]
  },
  {
   "cell_type": "code",
   "execution_count": 31,
   "id": "82be320c",
   "metadata": {},
   "outputs": [
    {
     "name": "stdout",
     "output_type": "stream",
     "text": [
      "Accuracy: 64.90% (+/- 0.58%)\n"
     ]
    }
   ],
   "source": [
    "from sklearn.model_selection import cross_val_score\n",
    "from sklearn.model_selection import KFold\n",
    "\n",
    "\n",
    "# Define XGBoost model\n",
    "model = xgb.XGBClassifier()\n",
    "\n",
    "# Perform 5-fold cross-validation\n",
    "cv = KFold(n_splits=5, shuffle=True, random_state=42)\n",
    "scores = cross_val_score(model, X, y, scoring='accuracy', cv=cv)\n",
    "\n",
    "# Calculate mean and standard deviation of accuracy scores\n",
    "mean_score = scores.mean()\n",
    "std_score = scores.std()\n",
    "print('Accuracy: %.2f%% (+/- %.2f%%)' % (mean_score * 100.0, std_score * 100.0))"
   ]
  }
 ],
 "metadata": {
  "kernelspec": {
   "display_name": "Python 3 (ipykernel)",
   "language": "python",
   "name": "python3"
  },
  "language_info": {
   "codemirror_mode": {
    "name": "ipython",
    "version": 3
   },
   "file_extension": ".py",
   "mimetype": "text/x-python",
   "name": "python",
   "nbconvert_exporter": "python",
   "pygments_lexer": "ipython3",
   "version": "3.9.16"
  },
  "varInspector": {
   "cols": {
    "lenName": 16,
    "lenType": 16,
    "lenVar": 40
   },
   "kernels_config": {
    "python": {
     "delete_cmd_postfix": "",
     "delete_cmd_prefix": "del ",
     "library": "var_list.py",
     "varRefreshCmd": "print(var_dic_list())"
    },
    "r": {
     "delete_cmd_postfix": ") ",
     "delete_cmd_prefix": "rm(",
     "library": "var_list.r",
     "varRefreshCmd": "cat(var_dic_list()) "
    }
   },
   "types_to_exclude": [
    "module",
    "function",
    "builtin_function_or_method",
    "instance",
    "_Feature"
   ],
   "window_display": false
  }
 },
 "nbformat": 4,
 "nbformat_minor": 5
}
